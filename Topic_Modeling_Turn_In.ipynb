{
 "cells": [
  {
   "cell_type": "markdown",
   "id": "af14b979",
   "metadata": {
    "pycharm": {
     "name": "#%%\n"
    }
   },
   "source": [
    "Chris Richardson <br><br>\n",
    "\n",
    "Oct 10, 2022 <br><br>\n",
    "\n",
    "ADS-509-Fall <br><br>\n",
    "\n",
    "Github Link: [https://github.com/CFRichardson/USD_ADS_509_HW5](https://github.com/CFRichardson/ADS_509_HW5)"
   ]
  },
  {
   "cell_type": "markdown",
   "id": "dZCVgtsO-2kL",
   "metadata": {
    "id": "dZCVgtsO-2kL",
    "pycharm": {
     "name": "#%% md\n"
    }
   },
   "source": [
    "# Notebook Setup"
   ]
  },
  {
   "cell_type": "code",
   "execution_count": 1,
   "id": "a85bce08",
   "metadata": {
    "id": "a85bce08",
    "pycharm": {
     "name": "#%%\n"
    }
   },
   "outputs": [],
   "source": [
    "import numpy as np\n",
    "import pandas as pd\n",
    "import spacy\n",
    "\n",
    "import gensim\n",
    "import gensim.corpora as corpora\n",
    "from gensim.utils import simple_preprocess\n",
    "from gensim.models import CoherenceModel,LdaMulticore, Phrases\n",
    "from gensim.models.phrases import Phraser\n",
    "from gensim.corpora import Dictionary\n",
    "\n",
    "import pyLDAvis\n",
    "import pyLDAvis.sklearn\n",
    "import pyLDAvis.gensim_models\n",
    "\n",
    "from collections import Counter, defaultdict\n",
    "from nltk.corpus import brown\n",
    "from sklearn.feature_extraction.text import TfidfVectorizer, CountVectorizer\n",
    "from sklearn.decomposition import NMF, TruncatedSVD, LatentDirichletAllocation\n",
    "from spacy.lang.en.stop_words import STOP_WORDS as stopwords\n",
    "from tqdm.auto import tqdm\n",
    "\n",
    "nlp = spacy.load('en_core_web_sm')"
   ]
  },
  {
   "cell_type": "code",
   "execution_count": 2,
   "id": "a218df60",
   "metadata": {
    "id": "a218df60",
    "pycharm": {
     "name": "#%%\n"
    }
   },
   "outputs": [],
   "source": [
    "# add any additional libaries you need here\n",
    "from IPython.display import display\n",
    "\n",
    "\n",
    "from sklearn.decomposition import TruncatedSVD\n",
    "\n",
    "import warnings\n",
    "warnings.simplefilter(action='ignore', category=FutureWarning)\n",
    "warnings.simplefilter(action='ignore', category=UserWarning)\n",
    "# warnings.simplefilter(action='ignore', category=SettingWithCopyWarning)\n"
   ]
  },
  {
   "cell_type": "code",
   "execution_count": 3,
   "id": "494de237",
   "metadata": {
    "id": "494de237",
    "pycharm": {
     "name": "#%%\n"
    }
   },
   "outputs": [],
   "source": [
    "def display_topics(model, features, no_top_words=5):\n",
    "    '''\n",
    "        Albrecht, Jens\n",
    "        March 30, 2021\n",
    "        Chapter 8: Unsupervised Methods: Topic Modeling and Clustering\n",
    "        Code Version: Git commit fc9615d8c897d4fff37412e2f51330d5cc10614b\n",
    "        Display Topics\n",
    "        github.com/blueprints-for-text-analytics-python/blueprints-text/blob/master/ch08/Topic_Modeling_Clustering.ipynb\n",
    "    '''\n",
    "    for topic, words in enumerate(model.components_):\n",
    "        total = words.sum()\n",
    "        largest = words.argsort()[::-1] # invert sort order\n",
    "        print(\"\\nTopic %02d\" % topic)\n",
    "        for i in range(0, no_top_words):\n",
    "            print(\"  %s (%2.2f)\" % (features[largest[i]], abs(words[largest[i]]*100.0/total)))\n",
    "\n",
    "def Topic_Assign_Bar_Plotter(tad):\n",
    "    '''\n",
    "    ---------------------------\n",
    "    T opic\n",
    "    A assignment\n",
    "    D ataFrame\n",
    "\n",
    "    The following is a modified reference from StackID \"ayhan\"\n",
    "    Link: https://stackoverflow.com/questions/52566616/transposing-selected-multiindex-levels-in-pandas-dataframe\n",
    "     '''\n",
    "    stacked_df = tad.stack().unstack(level=1)\n",
    "    ''' --------------------------------- '''\n",
    "    new_rows = []\n",
    "    for idx, row in stacked_df.iterrows():\n",
    "        # np.nansum == sum() that skips NaN values\n",
    "        new_row = row / np.nansum(row)\n",
    "        new_rows.append(new_row)\n",
    "\n",
    "    new_df = pd.DataFrame(new_rows).droplevel(1)\n",
    "    '''\n",
    "        The following DISPLAY OF % VALUES ON CHART IS A MODIFIED COPY FROM StackOverFlow\n",
    "\n",
    "        User: Code Different\n",
    "        Link: https://stackoverflow.com/questions/68107010/show-values-in-stacked-bar-chart-pandas\n",
    "    '''\n",
    "    ax = new_df.plot.bar(figsize=(15,10), stacked=True);\n",
    "\n",
    "    labels = [f'{i:.0%}' for i in new_df.to_numpy().flatten(order='F')]\n",
    "\n",
    "    for i, patch in enumerate(ax.patches):\n",
    "        x, y = patch.get_xy()\n",
    "        x += patch.get_width() / 2\n",
    "        y += patch.get_height() / 2\n",
    "        ax.annotate(labels[i], (x, y), ha='center', va='center', c='white')\n",
    "\n",
    "    ax.legend(bbox_to_anchor=(1, 1))\n",
    "\n",
    "\n",
    "def the_contributer_counter(w_matrix, corpus_df):\n",
    "    '''\n",
    "        Assigns topic to each document in W_matrix.\n",
    "\n",
    "    :param w_matrix: W_matrix from topic model.\n",
    "    :return: DataFrame with assigned topic per document.\n",
    "    '''\n",
    "\n",
    "    topic_columns = ['Topic0','Topic1','Topic2','Topic3','Topic4']\n",
    "    w_matrix_df = pd.DataFrame(w_matrix, columns=topic_columns)\n",
    "\n",
    "    # initialize empty columns 2 fill\n",
    "    w_matrix_df['id'] = np.nan\n",
    "    w_matrix_df['category'] = np.nan\n",
    "    w_matrix_df['topic'] = np.nan\n",
    "\n",
    "    for idx, row in w_matrix_df.iterrows():\n",
    "        topic_idx = np.argmax(row[topic_columns])\n",
    "        w_matrix_df.loc[idx,'id'] = corpus_df.loc[idx,'id']\n",
    "        w_matrix_df.loc[idx,'category'] = corpus_df.loc[idx,'category']\n",
    "        w_matrix_df.loc[idx,'topic'] = row.index[topic_idx]\n",
    "\n",
    "    return w_matrix_df\n",
    "\n",
    "\n",
    "def topic_cat_counter(w_matrix_df):\n",
    "    topic_cat_count_df = w_matrix_df.groupby(['topic','category'])['Topic0'].count().to_frame()\n",
    "    topic_cat_count_df = topic_cat_count_df.rename(columns={'Topic0':'Count'})\n",
    "\n",
    "    sorted_dfs = []\n",
    "    for topic, df in topic_cat_count_df.groupby(level=0):\n",
    "        sorted_dfs.append(df.sort_values(by='Count', ascending=False))\n",
    "    return pd.concat(sorted_dfs)"
   ]
  },
  {
   "cell_type": "markdown",
   "id": "a30a901c",
   "metadata": {
    "id": "a30a901c",
    "pycharm": {
     "name": "#%% md\n"
    }
   },
   "source": [
    "# Getting to Know the Brown Corpus\n",
    "\n",
    "Let's spend a bit of time getting to know what's in the Brown corpus, our NLTK example of an \"overlapping\" corpus."
   ]
  },
  {
   "cell_type": "code",
   "execution_count": 4,
   "id": "457c59ed",
   "metadata": {
    "id": "457c59ed",
    "outputId": "07fed22c-fc00-49a1-ad46-684426b50cb4",
    "pycharm": {
     "name": "#%%\n"
    }
   },
   "outputs": [
    {
     "name": "stdout",
     "output_type": "stream",
     "text": [
      "For adventure we have 29 articles.\n",
      "For belles_lettres we have 75 articles.\n",
      "For editorial we have 27 articles.\n",
      "For fiction we have 29 articles.\n",
      "For government we have 30 articles.\n",
      "For hobbies we have 36 articles.\n",
      "For humor we have 9 articles.\n",
      "For learned we have 80 articles.\n",
      "For lore we have 48 articles.\n",
      "For mystery we have 24 articles.\n",
      "For news we have 44 articles.\n",
      "For religion we have 17 articles.\n",
      "For reviews we have 17 articles.\n",
      "For romance we have 29 articles.\n",
      "For science_fiction we have 6 articles.\n"
     ]
    }
   ],
   "source": [
    "# categories of articles in Brown corpus from LIBRARY NLTK\n",
    "for category in brown.categories() :\n",
    "    print(f\"For {category} we have {len(brown.fileids(categories=category))} articles.\")"
   ]
  },
  {
   "cell_type": "markdown",
   "id": "23fb133c",
   "metadata": {
    "id": "23fb133c",
    "pycharm": {
     "name": "#%% md\n"
    }
   },
   "source": [
    "Let's create a dataframe of the articles in of hobbies, editorial, government, news, and romance."
   ]
  },
  {
   "cell_type": "code",
   "execution_count": 5,
   "id": "18f50b9d",
   "metadata": {
    "id": "18f50b9d",
    "outputId": "c2ed81e8-1bd0-48b5-c5f3-b206c66ff292",
    "pycharm": {
     "name": "#%%\n"
    }
   },
   "outputs": [
    {
     "data": {
      "text/plain": [
       "(166, 3)"
      ]
     },
     "execution_count": 5,
     "metadata": {},
     "output_type": "execute_result"
    }
   ],
   "source": [
    "categories = ['editorial', 'government', 'hobbies', 'news', 'romance']\n",
    "\n",
    "category_list = []\n",
    "file_ids = []\n",
    "texts = []\n",
    "\n",
    "for category in categories : \n",
    "    for file_id in brown.fileids(categories=category) :\n",
    "        \n",
    "        # build some lists for a dataframe\n",
    "        category_list.append(category)\n",
    "        file_ids.append(file_id)\n",
    "        \n",
    "        text = brown.words(fileids=file_id)\n",
    "        texts.append(\" \".join(text))\n",
    "\n",
    "df = pd.DataFrame()\n",
    "df['category'] = category_list\n",
    "df['id'] = file_ids\n",
    "df['text'] = texts \n",
    "\n",
    "df.shape"
   ]
  },
  {
   "cell_type": "code",
   "execution_count": 6,
   "id": "586f47de",
   "metadata": {
    "id": "586f47de",
    "pycharm": {
     "name": "#%%\n"
    }
   },
   "outputs": [],
   "source": [
    "# length of text\n",
    "df['char_len'] = df['text'].apply(len)\n",
    "# count of tokens\n",
    "df['word_len'] = df['text'].apply(lambda x: len(x.split()))"
   ]
  },
  {
   "cell_type": "code",
   "execution_count": 7,
   "id": "2128fd2d",
   "metadata": {
    "id": "2128fd2d",
    "outputId": "bac42f86-ba65-4153-8057-79aca8c3e37d",
    "pycharm": {
     "name": "#%%\n"
    }
   },
   "outputs": [
    {
     "data": {
      "image/png": "[encoded data removed]",
      "text/plain": [
       "<Figure size 720x432 with 1 Axes>"
      ]
     },
     "metadata": {
      "needs_background": "light"
     },
     "output_type": "display_data"
    }
   ],
   "source": [
    "%matplotlib inline\n",
    "df.groupby('category').agg({'word_len': 'mean'}).plot.bar(figsize=(10,6));"
   ]
  },
  {
   "cell_type": "markdown",
   "id": "554ffeb5",
   "metadata": {
    "id": "554ffeb5",
    "pycharm": {
     "name": "#%% md\n"
    }
   },
   "source": [
    "# TF-IDF & Count Vectorizations\n",
    "Now do our TF-IDF and Count vectorizations."
   ]
  },
  {
   "cell_type": "code",
   "execution_count": 8,
   "id": "21a7d247",
   "metadata": {
    "id": "21a7d247",
    "outputId": "454dc4c7-46f6-41e9-caeb-832a3a7d0e70",
    "pycharm": {
     "name": "#%%\n"
    }
   },
   "outputs": [
    {
     "data": {
      "text/plain": [
       "(166, 4941)"
      ]
     },
     "execution_count": 8,
     "metadata": {},
     "output_type": "execute_result"
    }
   ],
   "source": [
    "count_text_vectorizer = CountVectorizer(stop_words=stopwords, min_df=5, max_df=0.7)\n",
    "count_text_vectors = count_text_vectorizer.fit_transform(df[\"text\"])\n",
    "count_text_vectors.shape"
   ]
  },
  {
   "cell_type": "code",
   "execution_count": 9,
   "id": "875deba9",
   "metadata": {
    "id": "875deba9",
    "outputId": "0ba5f4c2-79f4-4757-b3e4-10862ef35091",
    "pycharm": {
     "name": "#%%\n"
    }
   },
   "outputs": [
    {
     "data": {
      "text/plain": [
       "(166, 4941)"
      ]
     },
     "execution_count": 9,
     "metadata": {},
     "output_type": "execute_result"
    }
   ],
   "source": [
    "tfidf_text_vectorizer = TfidfVectorizer(stop_words=stopwords, min_df=5, max_df=0.7)\n",
    "tfidf_text_vectors = tfidf_text_vectorizer.fit_transform(df['text'])\n",
    "tfidf_text_vectors.shape"
   ]
  },
  {
   "cell_type": "markdown",
   "id": "a1062b21",
   "metadata": {
    "id": "a1062b21",
    "pycharm": {
     "name": "#%% md\n"
    }
   },
   "source": [
    "#### Q&A\n",
    "Q: What do the two data frames `count_text_vectors` and `tfidf_text_vectors` hold?\n",
    "\n",
    "A:\n",
    "`count_text_vectors` contains our document term matrix, as shown on page 126 and 131 of BTAP.  While `tfidf_text_vectors` contains our Term Frequency Inverse Document Frequency vectors, which is the calculation of the Inverse Document Frequency times Term Frequency (which could be built by utilizing count_text_vectors) as shown on page 136 of BTAP."
   ]
  },
  {
   "cell_type": "markdown",
   "id": "f77c3f94",
   "metadata": {
    "id": "f77c3f94",
    "pycharm": {
     "name": "#%% md\n"
    }
   },
   "source": [
    "# Fitting a Non-Negative Matrix Factorization Model\n",
    "\n",
    "In this section the code to fit a five-topic NMF model has already been written. This code comes directly from the [BTAP repo](https://github.com/blueprints-for-text-analytics-python/blueprints-text), which will help you tremendously in the coming sections. "
   ]
  },
  {
   "cell_type": "code",
   "execution_count": 10,
   "id": "d28745a3",
   "metadata": {
    "id": "d28745a3",
    "pycharm": {
     "name": "#%%\n"
    }
   },
   "outputs": [],
   "source": [
    "nmf_text_model = NMF(n_components=5, random_state=314);\n",
    "W_text_matrix = nmf_text_model.fit_transform(tfidf_text_vectors);\n",
    "H_text_matrix = nmf_text_model.components_;"
   ]
  },
  {
   "cell_type": "markdown",
   "id": "6nekaWaR-2kX",
   "metadata": {
    "id": "6nekaWaR-2kX",
    "pycharm": {
     "name": "#%% md\n"
    }
   },
   "source": [
    "## Diplaying NMF Topics"
   ]
  },
  {
   "cell_type": "code",
   "execution_count": 11,
   "id": "a67185e7",
   "metadata": {
    "id": "a67185e7",
    "outputId": "8c68747b-4cd5-413b-f475-159f8014b633",
    "pycharm": {
     "name": "#%%\n"
    }
   },
   "outputs": [
    {
     "name": "stdout",
     "output_type": "stream",
     "text": [
      "\n",
      "Topic 00\n",
      "  mr (0.51)\n",
      "  president (0.45)\n",
      "  kennedy (0.43)\n",
      "  united (0.42)\n",
      "  khrushchev (0.40)\n",
      "\n",
      "Topic 01\n",
      "  said (0.88)\n",
      "  didn (0.46)\n",
      "  ll (0.45)\n",
      "  thought (0.42)\n",
      "  man (0.37)\n",
      "\n",
      "Topic 02\n",
      "  state (0.40)\n",
      "  development (0.36)\n",
      "  tax (0.33)\n",
      "  sales (0.30)\n",
      "  program (0.25)\n",
      "\n",
      "Topic 03\n",
      "  mrs (2.61)\n",
      "  mr (0.78)\n",
      "  said (0.64)\n",
      "  miss (0.52)\n",
      "  car (0.51)\n",
      "\n",
      "Topic 04\n",
      "  game (1.01)\n",
      "  league (0.74)\n",
      "  ball (0.72)\n",
      "  baseball (0.71)\n",
      "  team (0.66)\n"
     ]
    }
   ],
   "source": [
    "display_topics(nmf_text_model, tfidf_text_vectorizer.get_feature_names());"
   ]
  },
  {
   "cell_type": "markdown",
   "id": "NDTY1nTV-2kX",
   "metadata": {
    "id": "NDTY1nTV-2kX",
    "pycharm": {
     "name": "#%% md\n"
    }
   },
   "source": [
    "## NMF Topic to Brown Corpus Comparison\n",
    "\n",
    "Now some work for you to do. Compare the NMF factorization to the original categories from the Brown Corpus.\n",
    "\n",
    "We are interested in the extent to which our NMF factorization agrees or disagrees with the original categories in the corpus. For each topic in your NMF model, tally the Brown categories and interpret the results.\n"
   ]
  },
  {
   "cell_type": "markdown",
   "id": "mNl5iCWA-2kY",
   "metadata": {
    "id": "mNl5iCWA-2kY",
    "pycharm": {
     "name": "#%% md\n"
    }
   },
   "source": [
    "## Document Topic Assignment\n",
    "First step is to convert both our W and H matrices into Pandas DataFrames for certain things like row index preservation to compare the matrices to the orignal dataframe corpus."
   ]
  },
  {
   "cell_type": "code",
   "execution_count": 12,
   "id": "LPx7draH-2kY",
   "metadata": {
    "id": "LPx7draH-2kY",
    "outputId": "3adfa69e-e5c1-4f43-f657-f1c4708490b3",
    "pycharm": {
     "name": "#%%\n"
    }
   },
   "outputs": [
    {
     "data": {
      "text/html": [
       "<div>\n",
       "<style scoped>\n",
       "    .dataframe tbody tr th:only-of-type {\n",
       "        vertical-align: middle;\n",
       "    }\n",
       "\n",
       "    .dataframe tbody tr th {\n",
       "        vertical-align: top;\n",
       "    }\n",
       "\n",
       "    .dataframe thead th {\n",
       "        text-align: right;\n",
       "    }\n",
       "</style>\n",
       "<table border=\"1\" class=\"dataframe\">\n",
       "  <thead>\n",
       "    <tr style=\"text-align: right;\">\n",
       "      <th></th>\n",
       "      <th>Topic0</th>\n",
       "      <th>Topic1</th>\n",
       "      <th>Topic2</th>\n",
       "      <th>Topic3</th>\n",
       "      <th>Topic4</th>\n",
       "      <th>id</th>\n",
       "      <th>category</th>\n",
       "      <th>topic</th>\n",
       "    </tr>\n",
       "  </thead>\n",
       "  <tbody>\n",
       "    <tr>\n",
       "      <th>0</th>\n",
       "      <td>0.168324</td>\n",
       "      <td>0.0</td>\n",
       "      <td>0.196772</td>\n",
       "      <td>0.0</td>\n",
       "      <td>0.02855</td>\n",
       "      <td>cb01</td>\n",
       "      <td>editorial</td>\n",
       "      <td>Topic2</td>\n",
       "    </tr>\n",
       "    <tr>\n",
       "      <th>1</th>\n",
       "      <td>0.321743</td>\n",
       "      <td>0.0</td>\n",
       "      <td>0.000000</td>\n",
       "      <td>0.0</td>\n",
       "      <td>0.00000</td>\n",
       "      <td>cb02</td>\n",
       "      <td>editorial</td>\n",
       "      <td>Topic0</td>\n",
       "    </tr>\n",
       "  </tbody>\n",
       "</table>\n",
       "</div>"
      ],
      "text/plain": [
       "     Topic0  Topic1    Topic2  Topic3   Topic4    id   category   topic\n",
       "0  0.168324     0.0  0.196772     0.0  0.02855  cb01  editorial  Topic2\n",
       "1  0.321743     0.0  0.000000     0.0  0.00000  cb02  editorial  Topic0"
      ]
     },
     "execution_count": 12,
     "metadata": {},
     "output_type": "execute_result"
    }
   ],
   "source": [
    "nmf_w_matrix_df = the_contributer_counter(W_text_matrix, df)\n",
    "nmf_w_matrix_df.head(2)"
   ]
  },
  {
   "cell_type": "code",
   "execution_count": 13,
   "id": "0CoWvUNW-2kY",
   "metadata": {
    "id": "0CoWvUNW-2kY",
    "outputId": "9a55f7fd-3e89-41c4-dcad-99b7501ad954",
    "pycharm": {
     "name": "#%%\n"
    }
   },
   "outputs": [
    {
     "data": {
      "text/html": [
       "<div>\n",
       "<style scoped>\n",
       "    .dataframe tbody tr th:only-of-type {\n",
       "        vertical-align: middle;\n",
       "    }\n",
       "\n",
       "    .dataframe tbody tr th {\n",
       "        vertical-align: top;\n",
       "    }\n",
       "\n",
       "    .dataframe thead th {\n",
       "        text-align: right;\n",
       "    }\n",
       "</style>\n",
       "<table border=\"1\" class=\"dataframe\">\n",
       "  <thead>\n",
       "    <tr style=\"text-align: right;\">\n",
       "      <th></th>\n",
       "      <th></th>\n",
       "      <th>Count</th>\n",
       "    </tr>\n",
       "    <tr>\n",
       "      <th>topic</th>\n",
       "      <th>category</th>\n",
       "      <th></th>\n",
       "    </tr>\n",
       "  </thead>\n",
       "  <tbody>\n",
       "    <tr>\n",
       "      <th rowspan=\"3\" valign=\"top\">Topic0</th>\n",
       "      <th>editorial</th>\n",
       "      <td>20</td>\n",
       "    </tr>\n",
       "    <tr>\n",
       "      <th>news</th>\n",
       "      <td>8</td>\n",
       "    </tr>\n",
       "    <tr>\n",
       "      <th>government</th>\n",
       "      <td>4</td>\n",
       "    </tr>\n",
       "    <tr>\n",
       "      <th rowspan=\"3\" valign=\"top\">Topic1</th>\n",
       "      <th>romance</th>\n",
       "      <td>29</td>\n",
       "    </tr>\n",
       "    <tr>\n",
       "      <th>hobbies</th>\n",
       "      <td>8</td>\n",
       "    </tr>\n",
       "    <tr>\n",
       "      <th>editorial</th>\n",
       "      <td>4</td>\n",
       "    </tr>\n",
       "    <tr>\n",
       "      <th rowspan=\"4\" valign=\"top\">Topic2</th>\n",
       "      <th>government</th>\n",
       "      <td>26</td>\n",
       "    </tr>\n",
       "    <tr>\n",
       "      <th>hobbies</th>\n",
       "      <td>26</td>\n",
       "    </tr>\n",
       "    <tr>\n",
       "      <th>news</th>\n",
       "      <td>11</td>\n",
       "    </tr>\n",
       "    <tr>\n",
       "      <th>editorial</th>\n",
       "      <td>2</td>\n",
       "    </tr>\n",
       "    <tr>\n",
       "      <th rowspan=\"2\" valign=\"top\">Topic3</th>\n",
       "      <th>news</th>\n",
       "      <td>17</td>\n",
       "    </tr>\n",
       "    <tr>\n",
       "      <th>hobbies</th>\n",
       "      <td>1</td>\n",
       "    </tr>\n",
       "    <tr>\n",
       "      <th rowspan=\"3\" valign=\"top\">Topic4</th>\n",
       "      <th>news</th>\n",
       "      <td>8</td>\n",
       "    </tr>\n",
       "    <tr>\n",
       "      <th>editorial</th>\n",
       "      <td>1</td>\n",
       "    </tr>\n",
       "    <tr>\n",
       "      <th>hobbies</th>\n",
       "      <td>1</td>\n",
       "    </tr>\n",
       "  </tbody>\n",
       "</table>\n",
       "</div>"
      ],
      "text/plain": [
       "                   Count\n",
       "topic  category         \n",
       "Topic0 editorial      20\n",
       "       news            8\n",
       "       government      4\n",
       "Topic1 romance        29\n",
       "       hobbies         8\n",
       "       editorial       4\n",
       "Topic2 government     26\n",
       "       hobbies        26\n",
       "       news           11\n",
       "       editorial       2\n",
       "Topic3 news           17\n",
       "       hobbies         1\n",
       "Topic4 news            8\n",
       "       editorial       1\n",
       "       hobbies         1"
      ]
     },
     "execution_count": 13,
     "metadata": {},
     "output_type": "execute_result"
    }
   ],
   "source": [
    "nmf_tcc = topic_cat_counter(nmf_w_matrix_df)\n",
    "nmf_tcc"
   ]
  },
  {
   "cell_type": "code",
   "execution_count": 14,
   "id": "d2d84843",
   "metadata": {
    "pycharm": {
     "name": "#%%\n"
    }
   },
   "outputs": [
    {
     "data": {
      "image/png": "[encoded data removed]",
      "text/plain": [
       "<Figure size 1080x720 with 1 Axes>"
      ]
     },
     "metadata": {
      "needs_background": "light"
     },
     "output_type": "display_data"
    }
   ],
   "source": [
    "Topic_Assign_Bar_Plotter(nmf_tcc)"
   ]
  },
  {
   "cell_type": "markdown",
   "id": "7F6j1J7x-2kY",
   "metadata": {
    "id": "7F6j1J7x-2kY",
    "pycharm": {
     "name": "#%% md\n"
    }
   },
   "source": [
    "#### Q&A\n",
    "Q: How does your five-topic NMF model compare to the original Brown categories?\n",
    "\n",
    "A:Topic00 has the word probabilities that are slowly decreasing.  Thus it is a less-pronounced topic that is mainly comprised of Editorial documents.  Having the words (1) mr, (2) president, (3) kennedy, and (5) khruschev, I would assume this topic is mainly comprised of \"government\" and \"news\" documents.  It is possible that the particular editorial pieces are about governments and thus may be misleading by the idea that some \"editorial\" pieces would be better off being labeled as a new category termed \"government editorials\".\n",
    "\n",
    "Topic01 is mainly compromised of Stop Words, consisting majority of documents from Romance though I would have never suspected it by looking at the topic words.\n",
    "\n",
    "Just about 80% ((26/65)*2) of Topic02 information is split between \"government\" and \"hobbies\" with \"news\" contributing 16.92% (26/65).  By simply looking at Topic02, I am only able to tell that the topic is related to news documents and nothing more.\n",
    "\n",
    "Topic 03 visually looks like a romance-related topic, but news makes up 94.44% of the related documents (17 out of 18) with 5.66% or one document being that of the hobby category.\n",
    "\n",
    "Topic 04 appears to be purely sports news, and apparently, eight out of the ten documents comprising Topic 0-4 is news, while 1 document is that of hobbies and another of editorial.  Which to me, Topic 04 is the most coherent and straight forward topic and the tallies of categories truly tells this.\n"
   ]
  },
  {
   "cell_type": "markdown",
   "id": "wcVXr9_4-2kZ",
   "metadata": {
    "id": "wcVXr9_4-2kZ",
    "pycharm": {
     "name": "#%% md\n"
    }
   },
   "source": [
    "# Fitting an LSA Model\n",
    "\n",
    "In this section, follow the example from the repository and fit an LSA model (called a \"TruncatedSVD\" in `sklearn`). Again fit a five-topic model and compare it to the actual categories in the Brown corpus. Use the TF-IDF vectors for your fit, as above.\n",
    "\n",
    "To be explicit, we are once again interested in the extent to which this LSA factorization agrees or disagrees with the original categories in the corpus. For each topic in your model, tally the Brown categories and interpret the results.\n"
   ]
  },
  {
   "cell_type": "code",
   "execution_count": 15,
   "id": "DIVsKm7O-2kZ",
   "metadata": {
    "id": "DIVsKm7O-2kZ",
    "pycharm": {
     "name": "#%%\n"
    }
   },
   "outputs": [],
   "source": [
    "svd_para_model = TruncatedSVD(n_components = 5, random_state=42)\n",
    "W_svd_para_matrix = svd_para_model.fit_transform(tfidf_text_vectors)\n",
    "H_svd_para_matrix = svd_para_model.components_"
   ]
  },
  {
   "cell_type": "code",
   "execution_count": 56,
   "id": "K54yrzWp-2kZ",
   "metadata": {
    "id": "K54yrzWp-2kZ",
    "outputId": "3cfd8afd-346e-4335-da01-d076b30cff83",
    "pycharm": {
     "name": "#%%\n"
    }
   },
   "outputs": [
    {
     "data": {
      "text/html": [
       "<div>\n",
       "<style scoped>\n",
       "    .dataframe tbody tr th:only-of-type {\n",
       "        vertical-align: middle;\n",
       "    }\n",
       "\n",
       "    .dataframe tbody tr th {\n",
       "        vertical-align: top;\n",
       "    }\n",
       "\n",
       "    .dataframe thead th {\n",
       "        text-align: right;\n",
       "    }\n",
       "</style>\n",
       "<table border=\"1\" class=\"dataframe\">\n",
       "  <thead>\n",
       "    <tr style=\"text-align: right;\">\n",
       "      <th></th>\n",
       "      <th>Topic0</th>\n",
       "      <th>Topic1</th>\n",
       "      <th>Topic2</th>\n",
       "      <th>Topic3</th>\n",
       "      <th>Topic4</th>\n",
       "      <th>id</th>\n",
       "      <th>category</th>\n",
       "      <th>topic</th>\n",
       "    </tr>\n",
       "  </thead>\n",
       "  <tbody>\n",
       "    <tr>\n",
       "      <th>0</th>\n",
       "      <td>0.389572</td>\n",
       "      <td>-0.249656</td>\n",
       "      <td>-0.023332</td>\n",
       "      <td>-0.055891</td>\n",
       "      <td>-0.003281</td>\n",
       "      <td>cb01</td>\n",
       "      <td>editorial</td>\n",
       "      <td>Topic0</td>\n",
       "    </tr>\n",
       "    <tr>\n",
       "      <th>1</th>\n",
       "      <td>0.363091</td>\n",
       "      <td>-0.237287</td>\n",
       "      <td>0.209713</td>\n",
       "      <td>-0.259419</td>\n",
       "      <td>0.154332</td>\n",
       "      <td>cb02</td>\n",
       "      <td>editorial</td>\n",
       "      <td>Topic0</td>\n",
       "    </tr>\n",
       "  </tbody>\n",
       "</table>\n",
       "</div>"
      ],
      "text/plain": [
       "     Topic0    Topic1    Topic2    Topic3    Topic4    id   category   topic\n",
       "0  0.389572 -0.249656 -0.023332 -0.055891 -0.003281  cb01  editorial  Topic0\n",
       "1  0.363091 -0.237287  0.209713 -0.259419  0.154332  cb02  editorial  Topic0"
      ]
     },
     "execution_count": 56,
     "metadata": {},
     "output_type": "execute_result"
    }
   ],
   "source": [
    "svd_w_matrix_df = the_contributer_counter(W_svd_para_matrix, df)\n",
    "svd_w_matrix_df.head(2)"
   ]
  },
  {
   "cell_type": "markdown",
   "id": "rT7pG8_h-2kZ",
   "metadata": {
    "id": "rT7pG8_h-2kZ",
    "pycharm": {
     "name": "#%% md\n"
    }
   },
   "source": [
    "## Document Topic Assignment"
   ]
  },
  {
   "cell_type": "code",
   "execution_count": 43,
   "id": "_Dl3DLUO-2kZ",
   "metadata": {
    "id": "_Dl3DLUO-2kZ",
    "outputId": "f8569abf-492a-45a9-b8d9-8490a2381ff3",
    "pycharm": {
     "name": "#%%\n"
    }
   },
   "outputs": [
    {
     "data": {
      "text/html": [
       "<div>\n",
       "<style scoped>\n",
       "    .dataframe tbody tr th:only-of-type {\n",
       "        vertical-align: middle;\n",
       "    }\n",
       "\n",
       "    .dataframe tbody tr th {\n",
       "        vertical-align: top;\n",
       "    }\n",
       "\n",
       "    .dataframe thead th {\n",
       "        text-align: right;\n",
       "    }\n",
       "</style>\n",
       "<table border=\"1\" class=\"dataframe\">\n",
       "  <thead>\n",
       "    <tr style=\"text-align: right;\">\n",
       "      <th></th>\n",
       "      <th></th>\n",
       "      <th>Count</th>\n",
       "    </tr>\n",
       "    <tr>\n",
       "      <th>topic</th>\n",
       "      <th>category</th>\n",
       "      <th></th>\n",
       "    </tr>\n",
       "  </thead>\n",
       "  <tbody>\n",
       "    <tr>\n",
       "      <th rowspan=\"5\" valign=\"top\">Topic0</th>\n",
       "      <th>hobbies</th>\n",
       "      <td>36</td>\n",
       "    </tr>\n",
       "    <tr>\n",
       "      <th>news</th>\n",
       "      <td>34</td>\n",
       "    </tr>\n",
       "    <tr>\n",
       "      <th>government</th>\n",
       "      <td>30</td>\n",
       "    </tr>\n",
       "    <tr>\n",
       "      <th>editorial</th>\n",
       "      <td>27</td>\n",
       "    </tr>\n",
       "    <tr>\n",
       "      <th>romance</th>\n",
       "      <td>21</td>\n",
       "    </tr>\n",
       "    <tr>\n",
       "      <th>Topic1</th>\n",
       "      <th>romance</th>\n",
       "      <td>8</td>\n",
       "    </tr>\n",
       "    <tr>\n",
       "      <th>Topic3</th>\n",
       "      <th>news</th>\n",
       "      <td>3</td>\n",
       "    </tr>\n",
       "    <tr>\n",
       "      <th>Topic4</th>\n",
       "      <th>news</th>\n",
       "      <td>7</td>\n",
       "    </tr>\n",
       "  </tbody>\n",
       "</table>\n",
       "</div>"
      ],
      "text/plain": [
       "                   Count\n",
       "topic  category         \n",
       "Topic0 hobbies        36\n",
       "       news           34\n",
       "       government     30\n",
       "       editorial      27\n",
       "       romance        21\n",
       "Topic1 romance         8\n",
       "Topic3 news            3\n",
       "Topic4 news            7"
      ]
     },
     "execution_count": 43,
     "metadata": {},
     "output_type": "execute_result"
    }
   ],
   "source": [
    "svd_tcc = topic_cat_counter(svd_w_matrix_df)\n",
    "svd_tcc"
   ]
  },
  {
   "cell_type": "code",
   "execution_count": 18,
   "id": "e716f425",
   "metadata": {
    "pycharm": {
     "name": "#%%\n"
    }
   },
   "outputs": [
    {
     "data": {
      "image/png": "[encoded data removed]",
      "text/plain": [
       "<Figure size 1080x720 with 1 Axes>"
      ]
     },
     "metadata": {
      "needs_background": "light"
     },
     "output_type": "display_data"
    }
   ],
   "source": [
    "Topic_Assign_Bar_Plotter(svd_tcc)"
   ]
  },
  {
   "cell_type": "code",
   "execution_count": null,
   "id": "ee8f8033",
   "metadata": {
    "pycharm": {
     "name": "#%%\n"
    }
   },
   "outputs": [],
   "source": [
    "'''\n",
    "    A sneak peek into why there is no Topic02 in the above chart\n",
    "'''\n",
    "# topic_columns = ['Topic0','Topic1','Topic2','Topic3','Topic4']\n",
    "# svd_w_matrix_df = pd.DataFrame(W_svd_para_matrix, columns=topic_columns)\n",
    "#\n",
    "# # initialize empty columns 2 fill\n",
    "# svd_w_matrix_df['id'] = np.nan\n",
    "# svd_w_matrix_df['category'] = np.nan\n",
    "# svd_w_matrix_df['topic'] = np.nan\n",
    "#\n",
    "# for idx, row in svd_w_matrix_df.iterrows():\n",
    "#     topic_idx = np.argmax(row[topic_columns])\n",
    "#     svd_w_matrix_df.loc[idx,'id'] = df.loc[idx,'id']\n",
    "#     svd_w_matrix_df.loc[idx,'category'] = df.loc[idx,'category']\n",
    "#     svd_w_matrix_df.loc[idx,'topic'] = row.index[topic_idx]\n",
    "# svd_w_matrix_df['topic'].value_counts()"
   ]
  },
  {
   "cell_type": "markdown",
   "id": "IMtO8dDp-2ka",
   "metadata": {
    "id": "IMtO8dDp-2ka",
    "pycharm": {
     "name": "#%% md\n"
    }
   },
   "source": [
    "#### Q&A\n",
    "\n",
    "Q: How does your five-topic LSA model compare to the original Brown categories?\n",
    "\n",
    "A: I am surprised, no wonder why we are to compare the model to the Brown categories before looking at display topics.  It appears that Topic0 encompasses a little bit of everything from the corpus.  While the other topics are  single category.  For example, Topic3 has a `news` count of 3.  Surprisingly enough, no documents were assigned to Topic02."
   ]
  },
  {
   "cell_type": "code",
   "execution_count": 19,
   "id": "377a886e",
   "metadata": {
    "id": "377a886e",
    "outputId": "71178523-b6d0-42c9-ad06-d801b542cbad",
    "pycharm": {
     "name": "#%%\n"
    }
   },
   "outputs": [
    {
     "name": "stdout",
     "output_type": "stream",
     "text": [
      "\n",
      "Topic 00\n",
      "  said (0.44)\n",
      "  mr (0.25)\n",
      "  mrs (0.22)\n",
      "  state (0.20)\n",
      "  man (0.17)\n",
      "\n",
      "Topic 01\n",
      "  said (3.89)\n",
      "  ll (2.73)\n",
      "  didn (2.63)\n",
      "  thought (2.20)\n",
      "  got (1.97)\n",
      "\n",
      "Topic 02\n",
      "  mrs (3.07)\n",
      "  mr (1.74)\n",
      "  said (1.06)\n",
      "  kennedy (0.85)\n",
      "  khrushchev (0.82)\n",
      "\n",
      "Topic 03\n",
      "  mrs (28.72)\n",
      "  club (6.51)\n",
      "  game (5.71)\n",
      "  jr (5.45)\n",
      "  dallas (5.19)\n",
      "\n",
      "Topic 04\n",
      "  game (4.77)\n",
      "  league (3.40)\n",
      "  baseball (3.38)\n",
      "  ball (3.26)\n",
      "  team (3.09)\n"
     ]
    }
   ],
   "source": [
    "display_topics(svd_para_model, tfidf_text_vectorizer.get_feature_names());"
   ]
  },
  {
   "cell_type": "markdown",
   "id": "ea8b280a",
   "metadata": {
    "id": "ea8b280a",
    "pycharm": {
     "name": "#%% md\n"
    }
   },
   "source": [
    "#### Q&A\n",
    "Q: What is your interpretation of the display topics output?\n",
    "\n",
    "A:  Looking at Topic00, I assume it would be related to a mixture of categories, especially government and news.  Topic01 is still unrecognizable to me.  Topic02 appears to be news or government, nearly the same as NMF's Topic03, with a slightly different word makeup and categorical makeup.  Topic03 seems related to hobbies, though the categorical makeup is purely news.  Topic04 is nearly identical to NMF Topic04 with the exact word makeup though different weights.  Surprisingly SVD Topic04 has a separate category makeup in comparison to NMF Topic04.\n"
   ]
  },
  {
   "cell_type": "code",
   "execution_count": 60,
   "id": "89af2721",
   "metadata": {
    "pycharm": {
     "name": "#%%\n"
    }
   },
   "outputs": [],
   "source": [
    "def topic_displayer(tcc, topic='Topic4'):\n",
    "    for idx_df, topic_idx_df in tcc.groupby(level=0):\n",
    "        if idx_df == 'Topic4':\n",
    "            display(topic_idx_df)"
   ]
  },
  {
   "cell_type": "code",
   "execution_count": 61,
   "id": "8a0d8478",
   "metadata": {
    "pycharm": {
     "name": "#%%\n"
    }
   },
   "outputs": [
    {
     "data": {
      "text/html": [
       "<div>\n",
       "<style scoped>\n",
       "    .dataframe tbody tr th:only-of-type {\n",
       "        vertical-align: middle;\n",
       "    }\n",
       "\n",
       "    .dataframe tbody tr th {\n",
       "        vertical-align: top;\n",
       "    }\n",
       "\n",
       "    .dataframe thead th {\n",
       "        text-align: right;\n",
       "    }\n",
       "</style>\n",
       "<table border=\"1\" class=\"dataframe\">\n",
       "  <thead>\n",
       "    <tr style=\"text-align: right;\">\n",
       "      <th></th>\n",
       "      <th></th>\n",
       "      <th>Count</th>\n",
       "    </tr>\n",
       "    <tr>\n",
       "      <th>topic</th>\n",
       "      <th>category</th>\n",
       "      <th></th>\n",
       "    </tr>\n",
       "  </thead>\n",
       "  <tbody>\n",
       "    <tr>\n",
       "      <th>Topic4</th>\n",
       "      <th>news</th>\n",
       "      <td>7</td>\n",
       "    </tr>\n",
       "  </tbody>\n",
       "</table>\n",
       "</div>"
      ],
      "text/plain": [
       "                 Count\n",
       "topic  category       \n",
       "Topic4 news          7"
      ]
     },
     "metadata": {},
     "output_type": "display_data"
    }
   ],
   "source": [
    "topic_displayer(svd_tcc)"
   ]
  },
  {
   "cell_type": "code",
   "execution_count": 62,
   "id": "48495ca5",
   "metadata": {
    "pycharm": {
     "name": "#%%\n"
    }
   },
   "outputs": [
    {
     "data": {
      "text/html": [
       "<div>\n",
       "<style scoped>\n",
       "    .dataframe tbody tr th:only-of-type {\n",
       "        vertical-align: middle;\n",
       "    }\n",
       "\n",
       "    .dataframe tbody tr th {\n",
       "        vertical-align: top;\n",
       "    }\n",
       "\n",
       "    .dataframe thead th {\n",
       "        text-align: right;\n",
       "    }\n",
       "</style>\n",
       "<table border=\"1\" class=\"dataframe\">\n",
       "  <thead>\n",
       "    <tr style=\"text-align: right;\">\n",
       "      <th></th>\n",
       "      <th></th>\n",
       "      <th>Count</th>\n",
       "    </tr>\n",
       "    <tr>\n",
       "      <th>topic</th>\n",
       "      <th>category</th>\n",
       "      <th></th>\n",
       "    </tr>\n",
       "  </thead>\n",
       "  <tbody>\n",
       "    <tr>\n",
       "      <th rowspan=\"3\" valign=\"top\">Topic4</th>\n",
       "      <th>news</th>\n",
       "      <td>8</td>\n",
       "    </tr>\n",
       "    <tr>\n",
       "      <th>editorial</th>\n",
       "      <td>1</td>\n",
       "    </tr>\n",
       "    <tr>\n",
       "      <th>hobbies</th>\n",
       "      <td>1</td>\n",
       "    </tr>\n",
       "  </tbody>\n",
       "</table>\n",
       "</div>"
      ],
      "text/plain": [
       "                  Count\n",
       "topic  category        \n",
       "Topic4 news           8\n",
       "       editorial      1\n",
       "       hobbies        1"
      ]
     },
     "metadata": {},
     "output_type": "display_data"
    }
   ],
   "source": [
    "topic_displayer(nmf_tcc)"
   ]
  },
  {
   "cell_type": "markdown",
   "id": "b4ab4d29",
   "metadata": {
    "id": "b4ab4d29",
    "pycharm": {
     "name": "#%% md\n"
    }
   },
   "source": [
    "# Fitting an LDA Model\n",
    "\n",
    "Finally, fit a five-topic LDA model using the count vectors (`count_text_vectors` from above). Display the results using `pyLDAvis.display` and describe what you learn from that visualization. "
   ]
  },
  {
   "cell_type": "code",
   "execution_count": 20,
   "id": "802cb8ff",
   "metadata": {
    "id": "802cb8ff",
    "pycharm": {
     "name": "#%%\n"
    }
   },
   "outputs": [],
   "source": [
    "lda_para_model = LatentDirichletAllocation(n_components = 5, random_state=42)\n",
    "W_lda_para_matrix = lda_para_model.fit_transform(count_text_vectors)\n",
    "H_lda_para_matrix = lda_para_model.components_"
   ]
  },
  {
   "cell_type": "markdown",
   "id": "TACINtoK-2ka",
   "metadata": {
    "id": "TACINtoK-2ka",
    "pycharm": {
     "name": "#%% md\n"
    }
   },
   "source": [
    "## Displaying LDA Topics"
   ]
  },
  {
   "cell_type": "code",
   "execution_count": 21,
   "id": "ab18adf5",
   "metadata": {
    "id": "ab18adf5",
    "outputId": "165e23e6-c73d-4568-ca69-9a9bcb683d15",
    "pycharm": {
     "name": "#%%\n"
    }
   },
   "outputs": [
    {
     "name": "stdout",
     "output_type": "stream",
     "text": [
      "\n",
      "Topic 00\n",
      "  mrs (0.78)\n",
      "  home (0.48)\n",
      "  right (0.35)\n",
      "  game (0.33)\n",
      "  set (0.33)\n",
      "\n",
      "Topic 01\n",
      "  state (0.88)\n",
      "  development (0.57)\n",
      "  program (0.46)\n",
      "  use (0.44)\n",
      "  states (0.36)\n",
      "\n",
      "Topic 02\n",
      "  said (0.94)\n",
      "  mr (0.73)\n",
      "  president (0.64)\n",
      "  state (0.50)\n",
      "  000 (0.38)\n",
      "\n",
      "Topic 03\n",
      "  united (0.95)\n",
      "  states (0.89)\n",
      "  shall (0.86)\n",
      "  government (0.86)\n",
      "  feed (0.85)\n",
      "\n",
      "Topic 04\n",
      "  said (1.58)\n",
      "  little (0.63)\n",
      "  man (0.63)\n",
      "  old (0.59)\n",
      "  good (0.54)\n"
     ]
    }
   ],
   "source": [
    "display_topics(lda_para_model, tfidf_text_vectorizer.get_feature_names());"
   ]
  },
  {
   "cell_type": "markdown",
   "id": "Uqm2pY23-2kb",
   "metadata": {
    "id": "Uqm2pY23-2kb",
    "pycharm": {
     "name": "#%% md\n"
    }
   },
   "source": [
    "#### Q&A\n",
    "\n",
    "Q: What inference do you draw from the displayed topics for your LDA model?\n",
    "\n",
    "A:  Topics for LDA appear to be slightly better than the other models due to the fact that I am confident in my topic, categorical makeup assumptions.  But after reviewing the following charts, I stand corrected.  But then again, I am not so confident in my Document Topic Assignment calculations.\n",
    "\n",
    "With Topic01 appearing to be a mixture of hobbies and romance, Topic01 appearing to be a mixture of government and news, Topic02 a mix of news and government, Topic03 being purely government though the weights are barely degrading, and Topic04 reminds me of a comedy and thus I would assume it is hobby related (LDA tcc shows Topic04 is prodominantly romance)\n"
   ]
  },
  {
   "cell_type": "markdown",
   "id": "f2c67876",
   "metadata": {
    "id": "f2c67876",
    "pycharm": {
     "name": "#%% md\n"
    }
   },
   "source": [
    "## Document Topic Assignment\n",
    "#### Q:\n",
    "Q: Repeat the tallying of Brown categories within your topics. How does your five-topic LDA model compare to the original Brown categories?"
   ]
  },
  {
   "cell_type": "code",
   "execution_count": 22,
   "id": "QqoSQFR2-2kb",
   "metadata": {
    "id": "QqoSQFR2-2kb",
    "outputId": "00726e7f-1c64-40ba-ae40-2fecf9d71b71",
    "pycharm": {
     "name": "#%%\n"
    }
   },
   "outputs": [
    {
     "data": {
      "text/html": [
       "<div>\n",
       "<style scoped>\n",
       "    .dataframe tbody tr th:only-of-type {\n",
       "        vertical-align: middle;\n",
       "    }\n",
       "\n",
       "    .dataframe tbody tr th {\n",
       "        vertical-align: top;\n",
       "    }\n",
       "\n",
       "    .dataframe thead th {\n",
       "        text-align: right;\n",
       "    }\n",
       "</style>\n",
       "<table border=\"1\" class=\"dataframe\">\n",
       "  <thead>\n",
       "    <tr style=\"text-align: right;\">\n",
       "      <th></th>\n",
       "      <th></th>\n",
       "      <th>Count</th>\n",
       "    </tr>\n",
       "    <tr>\n",
       "      <th>topic</th>\n",
       "      <th>category</th>\n",
       "      <th></th>\n",
       "    </tr>\n",
       "  </thead>\n",
       "  <tbody>\n",
       "    <tr>\n",
       "      <th rowspan=\"4\" valign=\"top\">Topic0</th>\n",
       "      <th>hobbies</th>\n",
       "      <td>14</td>\n",
       "    </tr>\n",
       "    <tr>\n",
       "      <th>news</th>\n",
       "      <td>12</td>\n",
       "    </tr>\n",
       "    <tr>\n",
       "      <th>editorial</th>\n",
       "      <td>2</td>\n",
       "    </tr>\n",
       "    <tr>\n",
       "      <th>romance</th>\n",
       "      <td>1</td>\n",
       "    </tr>\n",
       "    <tr>\n",
       "      <th rowspan=\"4\" valign=\"top\">Topic1</th>\n",
       "      <th>government</th>\n",
       "      <td>17</td>\n",
       "    </tr>\n",
       "    <tr>\n",
       "      <th>hobbies</th>\n",
       "      <td>17</td>\n",
       "    </tr>\n",
       "    <tr>\n",
       "      <th>news</th>\n",
       "      <td>3</td>\n",
       "    </tr>\n",
       "    <tr>\n",
       "      <th>editorial</th>\n",
       "      <td>2</td>\n",
       "    </tr>\n",
       "    <tr>\n",
       "      <th rowspan=\"4\" valign=\"top\">Topic2</th>\n",
       "      <th>news</th>\n",
       "      <td>27</td>\n",
       "    </tr>\n",
       "    <tr>\n",
       "      <th>editorial</th>\n",
       "      <td>22</td>\n",
       "    </tr>\n",
       "    <tr>\n",
       "      <th>government</th>\n",
       "      <td>2</td>\n",
       "    </tr>\n",
       "    <tr>\n",
       "      <th>hobbies</th>\n",
       "      <td>1</td>\n",
       "    </tr>\n",
       "    <tr>\n",
       "      <th rowspan=\"3\" valign=\"top\">Topic3</th>\n",
       "      <th>government</th>\n",
       "      <td>11</td>\n",
       "    </tr>\n",
       "    <tr>\n",
       "      <th>news</th>\n",
       "      <td>2</td>\n",
       "    </tr>\n",
       "    <tr>\n",
       "      <th>hobbies</th>\n",
       "      <td>1</td>\n",
       "    </tr>\n",
       "    <tr>\n",
       "      <th rowspan=\"3\" valign=\"top\">Topic4</th>\n",
       "      <th>romance</th>\n",
       "      <td>28</td>\n",
       "    </tr>\n",
       "    <tr>\n",
       "      <th>hobbies</th>\n",
       "      <td>3</td>\n",
       "    </tr>\n",
       "    <tr>\n",
       "      <th>editorial</th>\n",
       "      <td>1</td>\n",
       "    </tr>\n",
       "  </tbody>\n",
       "</table>\n",
       "</div>"
      ],
      "text/plain": [
       "                   Count\n",
       "topic  category         \n",
       "Topic0 hobbies        14\n",
       "       news           12\n",
       "       editorial       2\n",
       "       romance         1\n",
       "Topic1 government     17\n",
       "       hobbies        17\n",
       "       news            3\n",
       "       editorial       2\n",
       "Topic2 news           27\n",
       "       editorial      22\n",
       "       government      2\n",
       "       hobbies         1\n",
       "Topic3 government     11\n",
       "       news            2\n",
       "       hobbies         1\n",
       "Topic4 romance        28\n",
       "       hobbies         3\n",
       "       editorial       1"
      ]
     },
     "execution_count": 22,
     "metadata": {},
     "output_type": "execute_result"
    }
   ],
   "source": [
    "lda_w_matrix_df = the_contributer_counter(W_lda_para_matrix, df)\n",
    "lda_tcc = topic_cat_counter(lda_w_matrix_df)\n",
    "lda_tcc"
   ]
  },
  {
   "cell_type": "code",
   "execution_count": 23,
   "id": "uTKOldka-2kc",
   "metadata": {
    "id": "uTKOldka-2kc",
    "outputId": "fc56260f-7d1a-48f0-be32-048c666b0a6d",
    "pycharm": {
     "name": "#%%\n"
    }
   },
   "outputs": [
    {
     "data": {
      "image/png": "[encoded data removed]",
      "text/plain": [
       "<Figure size 1080x720 with 1 Axes>"
      ]
     },
     "metadata": {
      "needs_background": "light"
     },
     "output_type": "display_data"
    }
   ],
   "source": [
    "Topic_Assign_Bar_Plotter(lda_tcc)"
   ]
  },
  {
   "cell_type": "markdown",
   "id": "jhcD-PlN-2kc",
   "metadata": {
    "id": "jhcD-PlN-2kc",
    "pycharm": {
     "name": "#%% md\n"
    }
   },
   "source": [
    "#### Answer to Question\n",
    "\n",
    "A:  Looking at LDA_tcc shows that each topic has three to four categories, with one to two strong categories creating the Topic document makeup.  In example, Topic0 is mainly comprised of editorial documents (62.5% = 20 editorial / 32 total documents).  It appears that LDA is able to extract the relevance of words from a document, which results to the various documents creating each of the topics.  This is shown in Topic04, where the main category is romance with 28 documents, 3 hobby documents, and 1 editorial.  The 3 hobby documents and 1 editorial could easily be romance related documents and LDA picked that up.\n"
   ]
  },
  {
   "cell_type": "markdown",
   "id": "In5rmlMe-2kc",
   "metadata": {
    "id": "In5rmlMe-2kc",
    "pycharm": {
     "name": "#%% md\n"
    }
   },
   "source": [
    "## LDA GUI"
   ]
  },
  {
   "cell_type": "code",
   "execution_count": 66,
   "id": "6aae75ca",
   "metadata": {
    "id": "6aae75ca",
    "pycharm": {
     "name": "#%%\n"
    }
   },
   "outputs": [],
   "source": [
    "lda_display = pyLDAvis.sklearn.prepare(lda_para_model, count_text_vectors, count_text_vectorizer, sort_topics=False);"
   ]
  },
  {
   "cell_type": "code",
   "execution_count": 70,
   "id": "aafd2d61",
   "metadata": {
    "pycharm": {
     "name": "#%%\n"
    }
   },
   "outputs": [
    {
     "data": {
      "text/html": [
       "\n",
       "<link rel=\"stylesheet\" type=\"text/css\" href=\"https://cdn.jsdelivr.net/gh/bmabey/pyLDAvis@3.3.1/pyLDAvis/js/ldavis.v1.0.0.css\">\n",
       "\n",
       "\n",
       "<div id=\"ldavis_el338701403737594689284523778545\"></div>\n",
       "<script type=\"text/javascript\">\n",
       "\n",
       "var ldavis_el338701403737594689284523778545_data = {\"mdsDat\": {\"x\": [-0.10362973563777764, 0.11425248659066284, 0.02892411956570716, 0.17789135629181804, -0.2174382268104103], \"y\": [0.1475889516647264, 0.03343358992983188, -0.02864566100100966, -0.05268837909104347, -0.09968850150250504], \"topics\": [1, 2, 3, 4, 5], \"cluster\": [1, 1, 1, 1, 1], \"Freq\": [18.208071653141847, 23.795639589524033, 32.23946797571075, 7.892337537601075, 17.864483244022296]}, \"tinfo\": {\"Term\": [\"said\", \"united\", \"states\", \"government\", \"shall\", \"general\", \"mrs\", \"business\", \"feed\", \"tax\", \"state\", \"act\", \"department\", \"property\", \"development\", \"didn\", \"thought\", \"ll\", \"president\", \"little\", \"mother\", \"secretary\", \"john\", \"kennedy\", \"board\", \"old\", \"man\", \"small\", \"shelter\", \"court\", \"player\", \"baseball\", \"panels\", \"leg\", \"yards\", \"yankees\", \"plastic\", \"holes\", \"gallery\", \"coach\", \"vernon\", \"charlie\", \"hits\", \"pittsburgh\", \"favorite\", \"pitcher\", \"hole\", \"runs\", \"ball\", \"pitching\", \"thickness\", \"team\", \"stadium\", \"ruth\", \"willie\", \"homer\", \"bat\", \"paintings\", \"amateur\", \"paint\", \"games\", \"frames\", \"pieces\", \"inch\", \"bob\", \"cooling\", \"drill\", \"clay\", \"golf\", \"game\", \"fig\", \"season\", \"football\", \"frame\", \"mrs\", \"junior\", \"hit\", \"club\", \"piece\", \"league\", \"playing\", \"cut\", \"play\", \"home\", \"run\", \"green\", \"set\", \"center\", \"class\", \"right\", \"place\", \"won\", \"don\", \"second\", \"way\", \"house\", \"good\", \"work\", \"ll\", \"left\", \"best\", \"high\", \"use\", \"said\", \"week\", \"better\", \"textile\", \"engineers\", \"participation\", \"employee\", \"faculty\", \"musical\", \"publications\", \"forests\", \"interior\", \"recreation\", \"maintain\", \"imports\", \"designers\", \"fiscal\", \"creative\", \"values\", \"vehicles\", \"quantity\", \"gear\", \"evaluation\", \"academic\", \"coverage\", \"varying\", \"curriculum\", \"laboratories\", \"depreciation\", \"comprehensive\", \"locations\", \"educated\", \"expenditures\", \"site\", \"fishing\", \"resources\", \"projects\", \"development\", \"india\", \"library\", \"rhode\", \"pool\", \"organizations\", \"activities\", \"planning\", \"published\", \"technical\", \"island\", \"plant\", \"medical\", \"management\", \"bridge\", \"research\", \"state\", \"program\", \"system\", \"division\", \"1960\", \"industrial\", \"use\", \"available\", \"corps\", \"period\", \"production\", \"important\", \"area\", \"brown\", \"national\", \"states\", \"work\", \"service\", \"college\", \"water\", \"000\", \"interest\", \"areas\", \"company\", \"number\", \"american\", \"high\", \"public\", \"good\", \"kennedy\", \"soviet\", \"nuclear\", \"khrushchev\", \"berlin\", \"laos\", \"congo\", \"republican\", \"moscow\", \"cuba\", \"weapons\", \"castro\", \"charter\", \"communism\", \"troops\", \"hughes\", \"premier\", \"democrats\", \"communists\", \"election\", \"missiles\", \"gen\", \"republicans\", \"katanga\", \"bombs\", \"police\", \"communist\", \"strategic\", \"russia\", \"negotiations\", \"political\", \"democratic\", \"georgia\", \"rayburn\", \"leader\", \"vote\", \"jury\", \"president\", \"senate\", \"committee\", \"mayor\", \"mr\", \"county\", \"council\", \"war\", \"party\", \"nations\", \"city\", \"meeting\", \"said\", \"east\", \"west\", \"military\", \"000\", \"administration\", \"united\", \"state\", \"american\", \"government\", \"school\", \"people\", \"public\", \"world\", \"states\", \"house\", \"week\", \"members\", \"program\", \"national\", \"mrs\", \"man\", \"john\", \"general\", \"recommendation\", \"motors\", \"thereof\", \"boats\", \"shelter\", \"feed\", \"cattle\", \"catastrophe\", \"interference\", \"chemical\", \"commodities\", \"assessment\", \"tangible\", \"relating\", \"farmers\", \"claim\", \"boat\", \"payments\", \"amended\", \"stockholders\", \"authorized\", \"property\", \"63\", \"loans\", \"stations\", \"shall\", \"incurred\", \"claims\", \"concrete\", \"pound\", \"farm\", \"credit\", \"officer\", \"act\", \"trust\", \"respect\", \"purposes\", \"stock\", \"business\", \"united\", \"general\", \"government\", \"tax\", \"agreement\", \"states\", \"department\", \"section\", \"small\", \"secretary\", \"local\", \"board\", \"court\", \"john\", \"service\", \"sales\", \"class\", \"pale\", \"smiled\", \"hadn\", \"hair\", \"baby\", \"listening\", \"shoes\", \"loved\", \"hell\", \"sick\", \"strange\", \"liked\", \"stared\", \"wondered\", \"tongue\", \"heel\", \"laughed\", \"silent\", \"mother\", \"looked\", \"lips\", \"till\", \"dad\", \"dear\", \"ugly\", \"weren\", \"nodded\", \"wasn\", \"couldn\", \"ears\", \"love\", \"sat\", \"didn\", \"eyes\", \"alexander\", \"teeth\", \"thought\", \"stood\", \"yes\", \"child\", \"wouldn\", \"woman\", \"knew\", \"went\", \"voice\", \"bed\", \"door\", \"girl\", \"oh\", \"felt\", \"got\", \"know\", \"god\", \"little\", \"father\", \"said\", \"came\", \"young\", \"ll\", \"away\", \"old\", \"man\", \"boy\", \"come\", \"going\", \"don\", \"let\", \"thing\", \"good\", \"life\", \"way\", \"asked\", \"look\", \"day\", \"people\", \"think\", \"night\"], \"Freq\": [792.0, 297.0, 330.0, 272.0, 121.0, 197.0, 303.0, 206.0, 90.0, 174.0, 493.0, 127.0, 154.0, 91.0, 202.0, 123.0, 138.0, 165.0, 298.0, 236.0, 96.0, 120.0, 165.0, 131.0, 172.0, 251.0, 280.0, 207.0, 55.0, 105.0, 47.13253538792198, 38.510117441048685, 32.763028066037016, 27.96803206426061, 26.057666818317273, 25.087538077505698, 25.01702886047384, 21.267555518067198, 21.26396891736148, 22.167430980364234, 19.350776188055818, 18.369707837607233, 15.518925620220436, 15.513651667507245, 15.50689546552795, 14.552868256683457, 35.45317079060187, 38.12980128183007, 58.997177488467244, 13.602547275795198, 13.597836089223883, 53.36789063498477, 12.64549811649564, 12.64505802344565, 12.644428739475536, 12.64266162644139, 12.64205313617196, 12.640202176163491, 12.639847491666256, 13.535554386094615, 28.765870131288775, 19.756522682144467, 48.96481520518542, 62.53687900340621, 22.27586252517482, 34.21330949575514, 30.814332140042865, 71.91525922939378, 24.66784432324611, 75.8220332242068, 28.153788870283055, 55.77808425367226, 23.464669281959875, 32.30277585626656, 177.64870815521218, 48.780600106214045, 44.666101627376676, 74.09869184915954, 45.82022228218946, 44.11435616996922, 32.45724944162702, 60.89969193980261, 45.92022368115362, 107.8985039624998, 62.051357434494555, 42.081737245889855, 74.98923307506627, 53.35653136887706, 52.64843384761706, 78.6594889183614, 72.95410571818924, 49.07050071607357, 65.85882894758932, 55.32856585401024, 74.70482458923361, 69.89210080018796, 69.45187754946278, 65.62529720986397, 57.664396234545606, 55.4182381023465, 52.031441970209194, 54.12662568373983, 55.08179531092554, 53.01025688159336, 50.18035833618836, 49.51874824406722, 28.298299152811293, 28.289971180460462, 24.413527074448798, 24.4048518643398, 51.19370387624985, 20.441611982354424, 19.436821556586622, 15.697547907942562, 39.65688815198712, 34.88933496614289, 19.005135654886267, 10.835398698969156, 10.806150644234037, 104.62464074550203, 15.268152120630266, 24.233368135583486, 40.31155019336947, 13.415223223931422, 20.53139443067963, 8.897795522884827, 27.538376892779226, 12.385377341707295, 12.369981251056869, 7.943132574942189, 7.941794167580092, 8.811393296612312, 6.977777146487245, 6.9750757323309465, 6.96089229171164, 24.40051858947765, 47.159828912943446, 16.457286783866106, 34.93831706422961, 47.43233476861519, 170.02657545907067, 33.05882470386506, 40.330506618820515, 73.48265783570908, 65.9195430415477, 33.47648936131639, 49.482032135130844, 69.9755463098438, 23.78483768196852, 48.14067376835692, 88.48989936987147, 62.34746682605047, 76.29370822648977, 63.60176907098564, 42.08482837311609, 74.78398544500018, 259.880192253513, 134.98214606606604, 90.23392386753184, 54.36643787258189, 83.15111861585429, 57.23102687835766, 131.77909935574036, 74.7698289023895, 54.64029270793687, 64.25200198698074, 57.58618033802045, 70.57125542016003, 80.71901788311914, 60.784840793105445, 86.5798191758747, 105.6768355571839, 90.04584646796191, 80.16411841739716, 65.36795526284313, 71.7473301893361, 86.92641169617526, 66.20517127552154, 60.292477322612584, 65.14985006843608, 64.38751409810192, 72.36447234659745, 68.5724613175937, 65.39894067909323, 65.64592251025626, 130.75922735591993, 80.24071701369267, 78.29299948835413, 72.43655034722622, 64.58200219838906, 49.98211984127005, 43.149672130169336, 39.24402655561471, 37.29179508286712, 37.29046969018615, 33.38561976094255, 29.481761712169536, 27.52810006593217, 28.47308905185118, 26.550682604424132, 24.60082088571073, 24.60052060892141, 23.62444444544093, 23.624362032124488, 53.85454689491938, 22.63701171614188, 21.670007463966094, 19.719625607047764, 19.71794739617117, 18.741161528417265, 44.973134480266474, 71.18186480556177, 17.761085776750832, 42.962339200332, 16.790760784468354, 79.83214563409545, 58.69447327514854, 41.030233228860574, 44.712795555498765, 40.945101035120025, 53.13972743576739, 46.00296428397867, 257.1614257261519, 47.888375061260824, 96.62309154442076, 41.48432927069855, 292.3454149670107, 89.08802035500781, 63.56358995489522, 112.73927867700351, 86.73866803579976, 65.90858361741594, 143.94614711431984, 77.28108819957306, 377.978389159009, 75.2723695154963, 81.30109873544582, 87.9514939097582, 154.61477301069866, 91.56426379861455, 147.86643383098033, 201.43924943315204, 135.55030266951846, 138.1195206354184, 103.48793270772988, 131.82194425784016, 112.51141775200294, 118.04759242123858, 129.41985150339661, 107.20682753346156, 97.89242148418535, 83.83127056977273, 91.33119302751, 89.1759993736508, 93.18981061599146, 91.0895675792851, 82.2938679704051, 82.55702556540763, 17.18217004556301, 41.21237392091026, 10.91403385704133, 34.15716740112293, 51.644453010957854, 83.60306245210549, 16.989063002313785, 4.532058293325063, 28.624819602082013, 21.501515842534292, 13.31086593119908, 13.93437592611505, 11.279918072609542, 7.675697993450213, 13.056436531474048, 31.37491331346193, 29.743203441498757, 29.065147862631516, 8.662443080195384, 14.519400255635322, 20.96134292088314, 65.17960983777053, 4.539869619940733, 21.176295871387715, 39.80354195665448, 84.42557452897582, 5.012258356084513, 19.236720618923375, 15.428683446999857, 16.279085456348426, 24.05871436627687, 24.21730186083324, 31.008041426240027, 64.88661407303222, 22.757116210189256, 27.03444313602136, 24.697116050357465, 39.43986253151909, 73.77933800300194, 93.42036828970554, 70.2711665403773, 84.14816444803982, 61.55540227113126, 32.40448586138607, 87.71082761071406, 54.5165915383952, 35.626736532633444, 52.63837741177691, 40.26093953636876, 40.97913331496891, 43.79655814627865, 35.62419716031746, 41.57797219159429, 39.355847070883755, 33.90125176569102, 29.270818233559627, 26.169571220684098, 26.1688688429628, 30.704487642580386, 34.31505586396628, 34.28046617370245, 18.47101580489795, 18.468584976819255, 17.509864974154418, 15.583287737041234, 15.583048271750707, 15.570539891079177, 14.62177028066342, 14.618589203219246, 13.658815992407115, 13.654047214739553, 14.550214766314276, 12.69834149919997, 11.736722791915565, 90.37517635016711, 79.46955968209456, 10.776379202923845, 10.774265969630072, 10.7730116738942, 10.76966704924516, 10.714262015145149, 9.810794533022513, 9.81067565707179, 53.4984268976426, 48.92905274865636, 9.741755388270905, 54.98427327513222, 34.39825054107635, 110.08048452970192, 86.96152418453362, 22.68937161763933, 17.615494415314867, 116.07604953643872, 42.328419706768976, 35.76827238924153, 56.942857698286716, 36.24378799404196, 46.826899769914164, 73.08561417299208, 98.24901903537788, 40.380706560746795, 30.29988028560567, 53.77762803015947, 37.18237806885218, 28.88780043917036, 66.46535606672317, 96.47164677749926, 118.62054245149166, 47.99491671785181, 139.8825740641254, 47.48772871181713, 350.7626433188596, 99.46841171351468, 85.95523931372438, 99.03904556923838, 78.41537709198163, 131.26555141619397, 139.2652673436002, 58.396580991151005, 101.40577202054621, 80.88396099072557, 95.93833665500084, 74.95320477476494, 64.07890206862766, 119.24414610197455, 81.51359793785173, 100.04418813812005, 68.33139356425178, 70.80874813846513, 97.05326804640309, 88.24820032260192, 70.25819536080044, 66.93823813769058], \"Total\": [792.0, 297.0, 330.0, 272.0, 121.0, 197.0, 303.0, 206.0, 90.0, 174.0, 493.0, 127.0, 154.0, 91.0, 202.0, 123.0, 138.0, 165.0, 298.0, 236.0, 96.0, 120.0, 165.0, 131.0, 172.0, 251.0, 280.0, 207.0, 55.0, 105.0, 47.89627157041129, 39.2738975015187, 33.52561454541442, 28.735436442931867, 26.819331619206466, 25.861405843339845, 25.856300324126806, 22.02909820509711, 22.02915450499719, 22.987844994677445, 20.113036328713488, 19.155105938422814, 16.28087141866986, 16.280824192681116, 16.28087893892785, 15.322852725871435, 37.36276986303864, 40.247557183701566, 62.27786944886692, 14.36477789348686, 14.364594659395813, 56.54641028684075, 13.406734600200549, 13.40673736064236, 13.406736088957508, 13.40677347792004, 13.406745039090156, 13.406778074258476, 13.406806299415413, 14.365936759468312, 30.65689780734359, 21.034942558579925, 52.641238299201355, 68.01912244885852, 23.96103243986504, 37.37695988845092, 33.555345786481624, 81.52108622727714, 26.83496471737271, 89.14698822787047, 31.43294522010514, 66.96498473330173, 25.892285023090626, 38.39413204959664, 303.6514214750503, 64.26684034148502, 57.65011938392127, 110.62377355321858, 60.55203248672035, 59.604542878063455, 39.24326056318278, 97.31132755056551, 66.23806268461634, 265.04311385822916, 118.17185731544423, 61.499436637933414, 168.28448707150554, 93.47956637757564, 97.74699428045115, 211.97643483968372, 188.3296507034241, 87.53319843917323, 175.7250772806954, 122.45703807994246, 273.39490178772655, 231.75560017999905, 306.5553013181185, 259.7193592087645, 165.3472999823777, 160.99428416994334, 138.45321632387956, 219.39299337592018, 255.80977588957325, 792.565104820101, 188.80144997539102, 159.0823316707032, 29.059485380010084, 29.05941410789538, 25.182189491177343, 25.181230363716523, 53.29954951269743, 21.304963307123757, 20.325791741731674, 16.459392189509085, 41.640765282754785, 36.72729130558055, 20.33888210664384, 11.613205048223827, 11.612959915895695, 112.45226197376239, 16.46230941244101, 26.14201133103426, 43.57791846236396, 14.51631798737711, 22.281983896794724, 9.673781257685054, 30.041042664912037, 13.554586550469573, 13.547082180709165, 8.70578721228883, 8.70566699421747, 9.674275781091485, 7.736690918260925, 7.736546495410045, 7.736615273730745, 27.135104540690136, 53.23653733054723, 18.389153417246735, 39.527519120586796, 54.283516861517825, 202.58878656984677, 37.80848795874566, 46.46256821026106, 86.81031211942438, 78.40419681968957, 38.47289436138589, 58.78915472184711, 86.14676863823308, 27.13952673812319, 58.93103935451335, 120.65332920551467, 81.07059658710241, 102.73976663472781, 85.25229495672006, 52.20957700915333, 104.54023339461983, 493.0177106346877, 234.02915202938044, 143.9219623771217, 73.55925280961966, 130.900949394425, 79.20314661899984, 255.80977588957325, 120.12595212584075, 76.68163009883278, 100.1536627229457, 84.67880680166546, 116.81250359016956, 147.10631348951782, 99.51386377020107, 215.66548708425236, 330.9021689230575, 259.7193592087645, 204.6038872501196, 124.96088141764389, 162.37026791379668, 283.1912078336182, 134.46750406958807, 100.32891547380541, 138.91465917554055, 137.45132869730736, 263.7331893465873, 219.39299337592018, 201.8345694164785, 306.5553013181185, 131.7657093608169, 81.0041589658454, 79.05174113481205, 73.19427276716598, 65.38069331499358, 50.740634642029555, 43.90694159064828, 40.00195355104601, 38.0494572404022, 38.04944548443646, 34.144480393773286, 30.239506931628615, 28.286991310274335, 29.262906890453145, 27.310725605359075, 25.35828422941024, 25.358265841651, 24.38204188241044, 24.382029883824345, 55.60309017559962, 23.405166641212986, 22.42952100192416, 20.477064036575335, 20.477006935575197, 19.50078110834514, 46.82771609684584, 74.14713252007196, 18.52453412634786, 44.87461407876137, 17.548310465659835, 83.85788082775983, 61.46473000955871, 42.922437364799656, 46.81606118649556, 42.90767672196925, 56.45762023926116, 48.75903603409721, 298.02125742825024, 51.46887326014128, 110.98660610582267, 44.83370261637085, 388.9324526295141, 105.29766718759653, 73.95836883867509, 146.92788625707146, 108.9724448787111, 79.84960764034231, 215.55929941686725, 98.07149859462815, 792.565104820101, 95.33001303005997, 106.84022293672417, 123.46144894079369, 283.1912078336182, 132.90141222157814, 297.637185388421, 493.0177106346877, 263.7331893465873, 272.1732201589694, 172.84867770122293, 265.21212638333327, 201.8345694164785, 255.89367405992255, 330.9021689230575, 231.75560017999905, 188.80144997539102, 141.91535985760467, 234.02915202938044, 215.66548708425236, 303.6514214750503, 280.4148550394077, 165.36719443346033, 197.23024276163767, 17.960430141002238, 43.11058672045756, 11.694497601740588, 36.90089412999942, 55.84068487689822, 90.91862109639546, 19.907640362276542, 5.438139808428423, 34.47769979117433, 26.339399811316905, 16.34933822455785, 17.278404260071817, 14.590158840981651, 10.024051794737822, 17.3579417571439, 41.99841608092137, 40.134131424586165, 39.29730095945431, 11.880533686378529, 20.154166987803304, 29.308185115675165, 91.64767861272462, 6.406655038299448, 30.265016864436625, 56.89534904744286, 121.99316633754437, 7.34002381711307, 28.468744996636058, 22.953537501021362, 24.73014771688763, 37.784553639817645, 38.74898677273645, 51.79800280012257, 127.56265405214504, 36.98006407840551, 46.23059974451073, 41.53071944240638, 75.11138831070751, 206.34524445178548, 297.637185388421, 197.23024276163767, 272.1732201589694, 174.6075789896462, 64.33287180897584, 330.9021689230575, 154.81151838716855, 81.3666870326558, 207.36968309400675, 120.20511560114673, 127.66044041711658, 172.99611753275235, 105.98513911795345, 165.36719443346033, 204.6038872501196, 116.74014605941586, 97.74699428045115, 26.9321013314358, 26.932126679245762, 31.74199387908082, 35.5898498911026, 35.600044219288435, 19.234375786983456, 19.234363276742467, 18.27217010409028, 16.347681637499427, 16.347608959261876, 16.347900048005602, 15.385473525470344, 15.385448962893237, 14.423172696375152, 14.423304613559774, 15.38604040006859, 13.46092861748073, 12.498777460490166, 96.2719430272771, 84.72262763834112, 11.536596553499855, 11.53650446261496, 11.536455562525772, 11.536629273773446, 11.53632686487872, 10.574259382641744, 10.574369449645117, 57.753586332895026, 52.93488594444687, 10.575372562757284, 59.69950836921915, 37.5430598053223, 123.22427131096258, 97.22934081622833, 25.028232262394987, 19.237282845727925, 138.46584482215476, 48.17151522662128, 40.423856753654036, 66.4869085257366, 41.42139361118256, 54.852638476161836, 89.38971960808351, 135.8034204750721, 49.161041071514305, 35.59115769590092, 69.36196086868283, 45.31239083792596, 33.68432038919213, 90.62581445645407, 145.4371570426006, 189.59451575257094, 62.73372998172846, 236.2106223442544, 62.655516976880804, 792.565104820101, 160.90591335580672, 135.1248505111368, 165.3472999823777, 122.46680196430152, 251.84087454257553, 280.4148550394077, 81.79047239521383, 184.29662333808486, 132.34996011794948, 175.7250772806954, 121.51280329171598, 95.39725072641707, 306.5553013181185, 161.3092430143126, 273.39490178772655, 117.70306244597174, 129.15387832296312, 300.856730165528, 265.21212638333327, 132.83995205918887, 150.01823166017007], \"Category\": [\"Default\", \"Default\", \"Default\", \"Default\", \"Default\", \"Default\", \"Default\", \"Default\", \"Default\", \"Default\", \"Default\", \"Default\", \"Default\", \"Default\", \"Default\", \"Default\", \"Default\", \"Default\", \"Default\", \"Default\", \"Default\", \"Default\", \"Default\", \"Default\", \"Default\", \"Default\", \"Default\", \"Default\", \"Default\", \"Default\", \"Topic1\", \"Topic1\", \"Topic1\", \"Topic1\", \"Topic1\", \"Topic1\", \"Topic1\", \"Topic1\", \"Topic1\", \"Topic1\", \"Topic1\", \"Topic1\", \"Topic1\", \"Topic1\", \"Topic1\", \"Topic1\", \"Topic1\", \"Topic1\", \"Topic1\", \"Topic1\", \"Topic1\", \"Topic1\", \"Topic1\", \"Topic1\", \"Topic1\", \"Topic1\", \"Topic1\", \"Topic1\", \"Topic1\", \"Topic1\", \"Topic1\", \"Topic1\", \"Topic1\", \"Topic1\", \"Topic1\", \"Topic1\", \"Topic1\", \"Topic1\", \"Topic1\", \"Topic1\", \"Topic1\", \"Topic1\", \"Topic1\", \"Topic1\", \"Topic1\", \"Topic1\", \"Topic1\", \"Topic1\", \"Topic1\", \"Topic1\", \"Topic1\", \"Topic1\", \"Topic1\", \"Topic1\", \"Topic1\", \"Topic1\", \"Topic1\", \"Topic1\", \"Topic1\", \"Topic1\", \"Topic1\", \"Topic1\", \"Topic1\", \"Topic1\", \"Topic1\", \"Topic1\", \"Topic1\", \"Topic1\", \"Topic1\", \"Topic1\", \"Topic1\", \"Topic1\", \"Topic1\", \"Topic1\", \"Topic1\", \"Topic1\", \"Topic2\", \"Topic2\", \"Topic2\", \"Topic2\", \"Topic2\", \"Topic2\", \"Topic2\", \"Topic2\", \"Topic2\", \"Topic2\", \"Topic2\", \"Topic2\", \"Topic2\", \"Topic2\", \"Topic2\", \"Topic2\", \"Topic2\", \"Topic2\", \"Topic2\", \"Topic2\", \"Topic2\", \"Topic2\", \"Topic2\", \"Topic2\", \"Topic2\", \"Topic2\", \"Topic2\", \"Topic2\", \"Topic2\", \"Topic2\", \"Topic2\", \"Topic2\", \"Topic2\", \"Topic2\", \"Topic2\", \"Topic2\", \"Topic2\", \"Topic2\", \"Topic2\", \"Topic2\", \"Topic2\", \"Topic2\", \"Topic2\", \"Topic2\", \"Topic2\", \"Topic2\", \"Topic2\", \"Topic2\", \"Topic2\", \"Topic2\", \"Topic2\", \"Topic2\", \"Topic2\", \"Topic2\", \"Topic2\", \"Topic2\", \"Topic2\", \"Topic2\", \"Topic2\", \"Topic2\", \"Topic2\", \"Topic2\", \"Topic2\", \"Topic2\", \"Topic2\", \"Topic2\", \"Topic2\", \"Topic2\", \"Topic2\", \"Topic2\", \"Topic2\", \"Topic2\", \"Topic2\", \"Topic2\", \"Topic2\", \"Topic2\", \"Topic2\", \"Topic2\", \"Topic2\", \"Topic3\", \"Topic3\", \"Topic3\", \"Topic3\", \"Topic3\", \"Topic3\", \"Topic3\", \"Topic3\", \"Topic3\", \"Topic3\", \"Topic3\", \"Topic3\", \"Topic3\", \"Topic3\", \"Topic3\", \"Topic3\", \"Topic3\", \"Topic3\", \"Topic3\", \"Topic3\", \"Topic3\", \"Topic3\", \"Topic3\", \"Topic3\", \"Topic3\", \"Topic3\", \"Topic3\", \"Topic3\", \"Topic3\", \"Topic3\", \"Topic3\", \"Topic3\", \"Topic3\", \"Topic3\", \"Topic3\", \"Topic3\", \"Topic3\", \"Topic3\", \"Topic3\", \"Topic3\", \"Topic3\", \"Topic3\", \"Topic3\", \"Topic3\", \"Topic3\", \"Topic3\", \"Topic3\", \"Topic3\", \"Topic3\", \"Topic3\", \"Topic3\", \"Topic3\", \"Topic3\", \"Topic3\", \"Topic3\", \"Topic3\", \"Topic3\", \"Topic3\", \"Topic3\", \"Topic3\", \"Topic3\", \"Topic3\", \"Topic3\", \"Topic3\", \"Topic3\", \"Topic3\", \"Topic3\", \"Topic3\", \"Topic3\", \"Topic3\", \"Topic3\", \"Topic3\", \"Topic3\", \"Topic4\", \"Topic4\", \"Topic4\", \"Topic4\", \"Topic4\", \"Topic4\", \"Topic4\", \"Topic4\", \"Topic4\", \"Topic4\", \"Topic4\", \"Topic4\", \"Topic4\", \"Topic4\", \"Topic4\", \"Topic4\", \"Topic4\", \"Topic4\", \"Topic4\", \"Topic4\", \"Topic4\", \"Topic4\", \"Topic4\", \"Topic4\", \"Topic4\", \"Topic4\", \"Topic4\", \"Topic4\", \"Topic4\", \"Topic4\", \"Topic4\", \"Topic4\", \"Topic4\", \"Topic4\", \"Topic4\", \"Topic4\", \"Topic4\", \"Topic4\", \"Topic4\", \"Topic4\", \"Topic4\", \"Topic4\", \"Topic4\", \"Topic4\", \"Topic4\", \"Topic4\", \"Topic4\", \"Topic4\", \"Topic4\", \"Topic4\", \"Topic4\", \"Topic4\", \"Topic4\", \"Topic4\", \"Topic4\", \"Topic4\", \"Topic5\", \"Topic5\", \"Topic5\", \"Topic5\", \"Topic5\", \"Topic5\", \"Topic5\", \"Topic5\", \"Topic5\", \"Topic5\", \"Topic5\", \"Topic5\", \"Topic5\", \"Topic5\", \"Topic5\", \"Topic5\", \"Topic5\", \"Topic5\", \"Topic5\", \"Topic5\", \"Topic5\", \"Topic5\", \"Topic5\", \"Topic5\", \"Topic5\", \"Topic5\", \"Topic5\", \"Topic5\", \"Topic5\", \"Topic5\", \"Topic5\", \"Topic5\", \"Topic5\", \"Topic5\", \"Topic5\", \"Topic5\", \"Topic5\", \"Topic5\", \"Topic5\", \"Topic5\", \"Topic5\", \"Topic5\", \"Topic5\", \"Topic5\", \"Topic5\", \"Topic5\", \"Topic5\", \"Topic5\", \"Topic5\", \"Topic5\", \"Topic5\", \"Topic5\", \"Topic5\", \"Topic5\", \"Topic5\", \"Topic5\", \"Topic5\", \"Topic5\", \"Topic5\", \"Topic5\", \"Topic5\", \"Topic5\", \"Topic5\", \"Topic5\", \"Topic5\", \"Topic5\", \"Topic5\", \"Topic5\", \"Topic5\", \"Topic5\", \"Topic5\", \"Topic5\", \"Topic5\", \"Topic5\", \"Topic5\", \"Topic5\", \"Topic5\"], \"logprob\": [30.0, 29.0, 28.0, 27.0, 26.0, 25.0, 24.0, 23.0, 22.0, 21.0, 20.0, 19.0, 18.0, 17.0, 16.0, 15.0, 14.0, 13.0, 12.0, 11.0, 10.0, 9.0, 8.0, 7.0, 6.0, 5.0, 4.0, 3.0, 2.0, 1.0, -6.1771, -6.3791, -6.5408, -6.699, -6.7697, -6.8077, -6.8105, -6.9729, -6.973, -6.9314, -7.0673, -7.1194, -7.288, -7.2883, -7.2888, -7.3523, -6.4618, -6.3891, -5.9526, -7.4198, -7.4201, -6.0528, -7.4928, -7.4928, -7.4928, -7.493, -7.493, -7.4932, -7.4932, -7.4247, -6.6709, -7.0466, -6.139, -5.8943, -6.9266, -6.4974, -6.6021, -5.7546, -6.8246, -5.7017, -6.6924, -6.0087, -6.8746, -6.5549, -4.8502, -6.1427, -6.2308, -5.7247, -6.2053, -6.2433, -6.5501, -5.9208, -6.2032, -5.3489, -5.9021, -6.2904, -5.7127, -6.0531, -6.0664, -5.6649, -5.7402, -6.1368, -5.8425, -6.0168, -5.7165, -5.7831, -5.7894, -5.8461, -5.9754, -6.0151, -6.0782, -6.0387, -6.0212, -6.0596, -6.1144, -6.1277, -6.9549, -6.9552, -7.1026, -7.1029, -6.3621, -7.2801, -7.3305, -7.5442, -6.6174, -6.7455, -7.353, -7.9149, -7.9176, -5.6473, -7.5719, -7.11, -6.6011, -7.7013, -7.2757, -8.1119, -6.9821, -7.7812, -7.7824, -8.2254, -8.2256, -8.1216, -8.355, -8.3554, -8.3574, -7.1031, -6.4442, -7.4969, -6.7441, -6.4384, -5.1617, -6.7994, -6.6006, -6.0006, -6.1093, -6.7869, -6.3961, -6.0495, -7.1286, -6.4236, -5.8148, -6.165, -5.9631, -6.1451, -6.558, -5.9831, -4.7375, -5.3926, -5.7953, -6.3019, -5.877, -6.2506, -5.4166, -5.9833, -6.2969, -6.1349, -6.2444, -6.0411, -5.9067, -6.1904, -5.8366, -5.6373, -5.7974, -5.9136, -6.1177, -6.0245, -5.8326, -6.1049, -6.1985, -6.121, -6.1328, -6.016, -6.0698, -6.1172, -6.1134, -5.728, -6.2164, -6.2409, -6.3187, -6.4334, -6.6897, -6.8367, -6.9316, -6.9826, -6.9826, -7.0933, -7.2176, -7.2862, -7.2524, -7.3223, -7.3986, -7.3986, -7.4391, -7.4391, -6.6151, -7.4818, -7.5255, -7.6198, -7.6199, -7.6707, -6.7953, -6.3361, -7.7244, -6.8411, -7.7806, -6.2215, -6.529, -6.8871, -6.8011, -6.8892, -6.6285, -6.7727, -5.0517, -6.7325, -6.0306, -6.8761, -4.9234, -6.1118, -6.4493, -5.8763, -6.1385, -6.4131, -5.6319, -6.2539, -4.6665, -6.2803, -6.2032, -6.1246, -5.5604, -6.0843, -5.6051, -5.2959, -5.692, -5.6733, -5.9619, -5.7199, -5.8783, -5.8303, -5.7383, -5.9266, -6.0175, -6.1726, -6.0869, -6.1108, -6.0667, -6.0895, -6.1911, -6.1879, -6.3502, -5.4753, -6.804, -5.6631, -5.2497, -4.768, -6.3615, -7.6829, -5.8398, -6.126, -6.6055, -6.5597, -6.7711, -7.156, -6.6248, -5.7481, -5.8015, -5.8245, -7.0351, -6.5186, -6.1514, -5.0169, -7.6812, -6.1412, -5.5101, -4.7582, -7.5822, -6.2373, -6.4579, -6.4042, -6.0136, -6.007, -5.7598, -5.0214, -6.0692, -5.897, -5.9874, -5.5193, -4.893, -4.657, -4.9417, -4.7615, -5.0741, -5.7158, -4.72, -5.1956, -5.621, -5.2306, -5.4987, -5.481, -5.4145, -5.6211, -5.4665, -5.5214, -5.6706, -5.8175, -6.7464, -6.7464, -6.5866, -6.4754, -6.4764, -7.0948, -7.0949, -7.1482, -7.2648, -7.2648, -7.2656, -7.3285, -7.3287, -7.3966, -7.397, -7.3334, -7.4695, -7.5483, -5.507, -5.6356, -7.6336, -7.6338, -7.634, -7.6343, -7.6394, -7.7275, -7.7275, -6.0314, -6.1206, -7.7346, -6.004, -6.473, -5.3098, -5.5455, -6.8891, -7.1422, -5.2568, -6.2655, -6.4339, -5.969, -6.4207, -6.1645, -5.7194, -5.4235, -6.3127, -6.5999, -6.0261, -6.3952, -6.6476, -5.8143, -5.4418, -5.2351, -6.1399, -5.0702, -6.1505, -4.1509, -5.4112, -5.5572, -5.4155, -5.649, -5.1338, -5.0746, -5.9437, -5.3919, -5.618, -5.4473, -5.6941, -5.8509, -5.2298, -5.6102, -5.4054, -5.7866, -5.751, -5.4357, -5.5309, -5.7588, -5.8072], \"loglift\": [30.0, 29.0, 28.0, 27.0, 26.0, 25.0, 24.0, 23.0, 22.0, 21.0, 20.0, 19.0, 18.0, 17.0, 16.0, 15.0, 14.0, 13.0, 12.0, 11.0, 10.0, 9.0, 8.0, 7.0, 6.0, 5.0, 4.0, 3.0, 2.0, 1.0, 1.6872, 1.6837, 1.6803, 1.6762, 1.6745, 1.6729, 1.6703, 1.6681, 1.668, 1.667, 1.6647, 1.6614, 1.6554, 1.655, 1.6546, 1.6517, 1.6508, 1.6493, 1.6492, 1.6488, 1.6484, 1.6455, 1.6448, 1.6448, 1.6448, 1.6446, 1.6446, 1.6444, 1.6444, 1.6438, 1.6396, 1.6406, 1.6309, 1.6193, 1.6304, 1.6149, 1.6181, 1.5779, 1.6191, 1.5414, 1.5931, 1.5205, 1.6049, 1.5306, 1.1672, 1.4276, 1.4481, 1.3026, 1.4245, 1.4024, 1.5134, 1.2346, 1.337, 0.8046, 1.0591, 1.3239, 0.895, 1.1426, 1.0846, 0.712, 0.7549, 1.1245, 0.7219, 0.9088, 0.4059, 0.5046, 0.2185, 0.3277, 0.6499, 0.6368, 0.7246, 0.3038, 0.1677, -1.0015, 0.3782, 0.5362, 1.4091, 1.4088, 1.4047, 1.4044, 1.3954, 1.3943, 1.3909, 1.3883, 1.3869, 1.3843, 1.3678, 1.3663, 1.3637, 1.3635, 1.3604, 1.3599, 1.3578, 1.3568, 1.3538, 1.3521, 1.3487, 1.3455, 1.3448, 1.344, 1.3438, 1.3422, 1.3324, 1.3321, 1.33, 1.3294, 1.3145, 1.3247, 1.3123, 1.3008, 1.2604, 1.3014, 1.2941, 1.269, 1.2622, 1.2966, 1.2633, 1.2278, 1.3037, 1.2334, 1.1256, 1.1731, 1.1381, 1.1427, 1.2201, 1.1007, 0.7953, 0.8854, 0.9688, 1.1333, 0.9819, 1.1107, 0.7724, 0.9615, 1.0968, 0.9918, 1.0501, 0.9317, 0.8355, 0.9427, 0.523, 0.2942, 0.3764, 0.4987, 0.7877, 0.6189, 0.2546, 0.7271, 0.9264, 0.6785, 0.6773, 0.1424, 0.2727, 0.3087, -0.1055, 1.1243, 1.1225, 1.1223, 1.1216, 1.1197, 1.1169, 1.1146, 1.1128, 1.1119, 1.1118, 1.1095, 1.1066, 1.1048, 1.1046, 1.1038, 1.1017, 1.1016, 1.1004, 1.1004, 1.1, 1.0986, 1.0975, 1.0943, 1.0942, 1.0922, 1.0916, 1.0912, 1.0899, 1.0884, 1.0878, 1.0828, 1.0859, 1.0869, 1.086, 1.0852, 1.0714, 1.0738, 0.9845, 1.0599, 0.9934, 1.0543, 0.8465, 0.9648, 0.9805, 0.8671, 0.9038, 0.9401, 0.7282, 0.8937, 0.3915, 0.8957, 0.8588, 0.7928, 0.5268, 0.7594, 0.4324, 0.2369, 0.4664, 0.4537, 0.619, 0.4329, 0.5476, 0.3583, 0.1932, 0.3611, 0.4752, 0.6056, 0.191, 0.2489, -0.0493, 0.0076, 0.4341, 0.2611, 2.495, 2.4942, 2.4702, 2.462, 2.4612, 2.4554, 2.3807, 2.357, 2.3532, 2.3363, 2.3337, 2.3242, 2.282, 2.2723, 2.2545, 2.2477, 2.2397, 2.2377, 2.2234, 2.2114, 2.2041, 2.1985, 2.1948, 2.1822, 2.182, 2.1712, 2.1578, 2.1473, 2.142, 2.1211, 2.0879, 2.0692, 2.0262, 1.8633, 2.0538, 2.0027, 2.0195, 1.8951, 1.5108, 1.3805, 1.5073, 1.3654, 1.4967, 1.8535, 1.2115, 1.4956, 1.7134, 1.1682, 1.4455, 1.403, 1.1656, 1.449, 1.1587, 0.8908, 1.3028, 1.3335, 1.6936, 1.6936, 1.6891, 1.6859, 1.6846, 1.6819, 1.6817, 1.6797, 1.6745, 1.6745, 1.6736, 1.6714, 1.6712, 1.6679, 1.6675, 1.6665, 1.664, 1.6594, 1.6591, 1.6583, 1.6542, 1.654, 1.6539, 1.6536, 1.6484, 1.6474, 1.6474, 1.6458, 1.6437, 1.6402, 1.6401, 1.6349, 1.6096, 1.6107, 1.6242, 1.6343, 1.546, 1.593, 1.6, 1.5674, 1.5888, 1.5642, 1.521, 1.3987, 1.5256, 1.5614, 1.4679, 1.5246, 1.5687, 1.4123, 1.3119, 1.2534, 1.4546, 1.1984, 1.4452, 0.9072, 1.2414, 1.27, 1.2098, 1.2765, 1.0708, 1.0225, 1.3855, 1.1249, 1.2299, 1.1171, 1.2392, 1.3244, 0.7781, 1.0398, 0.7171, 1.1786, 1.1213, 0.591, 0.622, 1.0854, 0.9154]}, \"token.table\": {\"Topic\": [1, 2, 3, 4, 1, 2, 3, 2, 4, 2, 3, 2, 3, 4, 5, 2, 3, 4, 2, 3, 4, 2, 3, 4, 5, 3, 5, 1, 2, 4, 1, 2, 3, 4, 5, 1, 2, 3, 4, 5, 1, 2, 3, 4, 1, 2, 3, 4, 5, 3, 4, 2, 3, 4, 1, 2, 3, 4, 1, 2, 3, 5, 3, 5, 1, 5, 1, 1, 1, 3, 5, 3, 1, 2, 3, 4, 5, 1, 2, 3, 4, 5, 1, 2, 3, 4, 5, 1, 2, 4, 5, 3, 4, 5, 1, 3, 3, 1, 3, 5, 1, 2, 1, 2, 3, 5, 1, 2, 3, 4, 5, 1, 2, 3, 4, 5, 3, 4, 2, 4, 5, 1, 2, 3, 5, 1, 3, 2, 3, 4, 1, 2, 3, 5, 1, 2, 3, 4, 5, 3, 4, 5, 2, 3, 4, 5, 1, 2, 3, 4, 5, 1, 3, 4, 5, 1, 2, 3, 5, 1, 1, 2, 3, 4, 5, 1, 2, 3, 4, 5, 1, 2, 3, 4, 2, 3, 4, 3, 2, 3, 5, 3, 1, 2, 3, 4, 5, 2, 3, 4, 5, 3, 1, 2, 5, 1, 2, 3, 1, 3, 5, 1, 2, 3, 4, 2, 3, 1, 3, 4, 5, 2, 3, 2, 3, 2, 3, 4, 5, 3, 2, 1, 2, 3, 5, 5, 1, 2, 3, 4, 5, 5, 2, 3, 3, 1, 2, 3, 4, 2, 2, 1, 2, 3, 4, 1, 2, 3, 5, 1, 2, 3, 4, 1, 2, 3, 4, 5, 1, 2, 3, 5, 1, 2, 3, 5, 1, 2, 3, 4, 2, 1, 3, 2, 2, 2, 2, 3, 1, 2, 3, 5, 2, 3, 1, 3, 4, 5, 3, 4, 1, 2, 3, 5, 1, 1, 4, 5, 2, 3, 4, 5, 1, 4, 2, 3, 2, 5, 1, 3, 2, 1, 3, 5, 1, 4, 1, 1, 2, 3, 4, 5, 1, 5, 2, 3, 3, 1, 2, 3, 4, 5, 2, 3, 2, 3, 5, 3, 5, 1, 2, 3, 5, 1, 2, 1, 2, 3, 4, 5, 1, 3, 5, 2, 3, 4, 5, 1, 3, 5, 5, 1, 5, 5, 5, 1, 2, 3, 4, 5, 1, 3, 5, 1, 1, 5, 1, 1, 2, 3, 4, 5, 1, 1, 2, 3, 4, 5, 3, 1, 2, 3, 4, 5, 2, 1, 2, 4, 3, 4, 5, 2, 3, 2, 3, 4, 1, 2, 3, 4, 5, 1, 3, 4, 1, 2, 1, 2, 3, 4, 5, 1, 2, 3, 4, 5, 1, 2, 3, 4, 3, 5, 3, 3, 3, 1, 3, 4, 5, 1, 2, 3, 4, 5, 2, 3, 5, 1, 3, 1, 2, 3, 5, 1, 2, 3, 5, 1, 1, 2, 3, 4, 5, 1, 2, 5, 1, 2, 3, 4, 5, 5, 5, 5, 1, 2, 3, 4, 5, 1, 2, 3, 5, 2, 3, 4, 1, 2, 3, 4, 2, 1, 2, 3, 4, 5, 1, 3, 5, 2, 3, 5, 5, 2, 3, 1, 2, 3, 5, 1, 2, 3, 4, 1, 3, 1, 2, 3, 4, 1, 2, 3, 4, 5, 1, 2, 3, 5, 1, 2, 3, 4, 3, 3, 1, 3, 5, 2, 4, 1, 2, 3, 4, 5, 1, 3, 5, 2, 1, 2, 3, 4, 5, 2, 3, 4, 3, 1, 3, 4, 5, 5, 3, 1, 2, 3, 4, 5, 2, 3, 4, 5, 1, 2, 5, 1, 2, 3, 5, 2, 3, 4, 1, 1, 5, 1, 2, 1, 3, 5, 2, 3, 4, 1, 2, 3, 4, 5, 1, 2, 3, 4, 5, 1, 2, 3, 1, 2, 4, 1, 1, 1, 1, 2, 3, 4, 5, 2, 3, 4, 1, 2, 3, 4, 5, 1, 1, 2, 3, 4, 5, 1, 1, 2, 4, 5, 2, 3, 2, 3, 4, 2, 5, 1, 4, 3, 1, 2, 3, 4, 5, 2, 3, 4, 1, 2, 3, 4, 1, 2, 3, 2, 3, 4, 5, 1, 2, 3, 4, 2, 2, 3, 1, 2, 4, 2, 3, 5, 4, 2, 4, 2, 4, 3, 3, 1, 2, 3, 4, 2, 3, 4, 1, 2, 3, 4, 5, 2, 3, 4, 5, 1, 2, 3, 4, 5, 1, 2, 3, 4, 5, 1, 2, 2, 3, 1, 1, 2, 3, 4, 5, 2, 3, 4, 2, 3, 5, 1, 2, 3, 5, 1, 2, 4, 1, 2, 3, 4, 5, 2, 3, 4, 5, 1, 2, 3, 4, 5, 3, 4, 1, 2, 3, 4, 5, 1, 2, 3, 4, 5, 1, 2, 3, 4, 5, 3, 4, 5, 5, 5, 1, 2, 3, 1, 2, 3, 4, 5, 5, 3, 1, 5, 1, 2, 3, 4, 5, 2, 3, 4, 5, 2, 3, 4, 1, 2, 3, 4, 5, 3, 4, 3, 5, 5, 3, 1, 2, 3, 4, 5, 3, 4, 2, 3, 4, 5, 1, 2, 2, 3, 4, 1, 2, 5, 2, 4, 1, 1, 2, 3, 5, 1, 2, 3, 4, 5, 1, 2, 3, 4, 5, 5, 5, 3, 3, 4, 5, 2, 3, 4, 5, 1, 2, 3, 4, 5, 2, 5, 1, 2, 2, 3, 4, 1, 2, 3, 5, 2, 3, 4, 2, 3, 4, 5, 1, 3, 5, 1, 2, 3, 4, 5, 1, 2, 3, 4, 5, 3, 1, 2, 3, 4, 5, 1, 3, 5, 5, 1, 2, 3, 4, 5, 1, 1, 2, 3, 5, 1, 2, 3, 5, 5, 1, 2, 3, 4, 5, 1, 2, 3, 4, 5, 2, 3, 5, 1, 1, 1, 3, 5, 1, 2, 3, 5], \"Freq\": [0.07415484456826081, 0.3072129274970805, 0.5473333765752584, 0.07062366149358172, 0.09931173196329517, 0.6340672117656537, 0.2597383759040027, 0.15608769225468322, 0.7804384612734161, 0.932058194927569, 0.06657558535196921, 0.2586964048781101, 0.19598212490765915, 0.5095535247599138, 0.03135713998522546, 0.8334870646097369, 0.08504970047038131, 0.06803976037630505, 0.17306061399598638, 0.6922424559839455, 0.13543874138816325, 0.170985682601927, 0.3108830592762309, 0.49741289484196943, 0.015544152963811545, 0.07990975866901345, 0.9189622246936547, 0.969656733279338, 0.2525139088187268, 0.7575417264561803, 0.12133474773987173, 0.2730031824147114, 0.5156726778944548, 0.015166843467483966, 0.07583421733741984, 0.10196707159729645, 0.5506221866254009, 0.30590121479188936, 0.027191219092612386, 0.013595609546306193, 0.05980329770001872, 0.5980329770001872, 0.26911483965008426, 0.06977051398335518, 0.0424797783175362, 0.01699191132701448, 0.33134227087678236, 0.02548786699052172, 0.5777249851184924, 0.1736271448939655, 0.8102600095051723, 0.10236048353589396, 0.1706008058931566, 0.7165233847512577, 0.09157055411703786, 0.6243446871616217, 0.08324595828821624, 0.19146570406289734, 0.14697860735554205, 0.016330956372838008, 0.19597147647405608, 0.6369072985406822, 0.02808985274962638, 0.9550549934872969, 0.9473670265557461, 0.04817120474012268, 0.99302596587191, 0.9696611639958688, 0.1123874652849712, 0.0280968663212428, 0.842905989637284, 0.9941772823796857, 0.3755781294264622, 0.17334375204298252, 0.20945703371860389, 0.04333593801074563, 0.19501172104835535, 0.31430265998048645, 0.20115370238751132, 0.15715132999024323, 0.006286053199609729, 0.3268747663797059, 0.16763381984286208, 0.10404857783350059, 0.4624381237044471, 0.2543409680374459, 0.011560953092611178, 0.04983289606648371, 0.12458224016620927, 0.7474934409972556, 0.07474934409972556, 0.027099614347475317, 0.9213868878141608, 0.054199228694950634, 0.9181574314551495, 0.0417344287025068, 0.974319946182523, 0.20784816986819113, 0.07335817760053805, 0.7091290501385344, 0.19153574062181752, 0.8044501106116336, 0.21102587322399138, 0.6129799174601654, 0.050244255529521754, 0.13063506437675657, 0.019384987575687202, 0.30046730742315164, 0.24231234469609003, 0.35862227015021325, 0.0823861971966706, 0.16779992379954153, 0.055933307933180514, 0.1491554878218147, 0.006214811992575613, 0.6152663872649856, 0.9590103458223993, 0.919432044069672, 0.050231970329086495, 0.8539434955944705, 0.050231970329086495, 0.5669688259563206, 0.1390678252345692, 0.22464802537891948, 0.06418515010826271, 0.9396972304859034, 0.9898543006173267, 0.07593187446665683, 0.07593187446665683, 0.8352506191332252, 0.015040554932899419, 0.030081109865798837, 0.10528388453029594, 0.8573116311752669, 0.1438119352023385, 0.1113382724147137, 0.6680296344882821, 0.009278189367892807, 0.06958642025919606, 0.14286253054018436, 0.7381230744576193, 0.09524168702678958, 0.1405049643204381, 0.1405049643204381, 0.667398580522081, 0.035126241080109526, 0.542216161122406, 0.0306914808182494, 0.0613829616364988, 0.29668431457641087, 0.08184394884866505, 0.8832070735572294, 0.08586735437361953, 0.012266764910517074, 0.012266764910517074, 0.6689339698252138, 0.135594723613219, 0.135594723613219, 0.0542378894452876, 0.9570275075847184, 0.0720225393570987, 0.5201627842457128, 0.2640826443093619, 0.008002504373010966, 0.1360425743411864, 0.12479881390885503, 0.06511242464809827, 0.24959762781771005, 0.010852070774683045, 0.5480295741214938, 0.02703028865608867, 0.08109086596826601, 0.8739793332135336, 0.018020192437392446, 0.061164555180461676, 0.061164555180461676, 0.7951392173460018, 0.9568427396778835, 0.013486698217618807, 0.9575555734509352, 0.013486698217618807, 0.9843314980071535, 0.02879465726468342, 0.4679131805511056, 0.29514523696300504, 0.1583706149557588, 0.050390650213195984, 0.9047795852200696, 0.1742650778696753, 0.6534940420112824, 0.13069880840225648, 0.9793440044377527, 0.9096512959178801, 0.02675444987993765, 0.02675444987993765, 0.013040932994135992, 0.7172513146774795, 0.26081865988271985, 0.018891133553200844, 0.03778226710640169, 0.9256655441068413, 0.027042240538898137, 0.09464784188614347, 0.8653516972447404, 0.027042240538898137, 0.15195018491240336, 0.8452229035752437, 0.04717642531407519, 0.5944229589573474, 0.3396702622613414, 0.018870570125630075, 0.8853091870651181, 0.07377576558875984, 0.9111722799149977, 0.060744818660999844, 0.1290356320624613, 0.20645701129993807, 0.6193710338998142, 0.02580712641249226, 0.9724189020082902, 0.9189289612669879, 0.6268540521996558, 0.05138147968849638, 0.2671836943801812, 0.05138147968849638, 0.953499100341672, 0.13627748987846228, 0.20940199664251521, 0.25593577367418524, 0.0764483479806008, 0.3224125980051425, 0.9534847431568785, 0.03253898617449339, 0.9599000921475551, 0.9843310136102239, 0.0064594676831416205, 0.2906760457413729, 0.3488112548896475, 0.35527072257278913, 0.9303021956011047, 0.9472175982406792, 0.03455275150476604, 0.8391382508300325, 0.12340268394559302, 0.004936107357823721, 0.04869170607516681, 0.008115284345861135, 0.04869170607516681, 0.8926812780447249, 0.09516137987585131, 0.7341020733279958, 0.14953931123348063, 0.01359448283940733, 0.37558668928382116, 0.03983495189373861, 0.02845353706695615, 0.01707212224017369, 0.546307911685558, 0.0720856206684537, 0.05766849653476296, 0.08650274480214444, 0.7785247032193, 0.9238468349352821, 0.029801510804363936, 0.029801510804363936, 0.9455931638017613, 0.08391900667712483, 0.10489875834640604, 0.7867406875980453, 0.010489875834640604, 0.9047884316760739, 0.01798461194947815, 0.9711690452718201, 0.9530908400163579, 0.963543170417619, 0.9303497526213147, 0.884463148612937, 0.07370526238441141, 0.041139844890652276, 0.010284961222663069, 0.05142480611331535, 0.8947916263716871, 0.9568561172895164, 0.03752376930547123, 0.052931682588209406, 0.264658412941047, 0.6351801910585129, 0.052931682588209406, 0.23044206830304317, 0.7489367219848903, 0.06384114588785463, 0.03192057294392731, 0.14364257824767293, 0.7501334641822919, 0.9827479253434983, 0.021997693936421696, 0.9239031453297112, 0.05499423484105424, 0.04413753436579607, 0.19861890464608234, 0.022068767182898037, 0.7282693170356352, 0.8907851238225886, 0.09544126326670592, 0.9337295502735092, 0.06224863668490062, 0.8700781181690503, 0.054379882385565646, 0.888295489544036, 0.07724308604730748, 0.9720893588159414, 0.8334606954693792, 0.1041825869336724, 0.0520912934668362, 0.9507988882927668, 0.04753994441463834, 0.9532821604767567, 0.8525245946137274, 0.056087144382482065, 0.022434857752992827, 0.011217428876496413, 0.056087144382482065, 0.9459535071762318, 0.03261908645435282, 0.9424654508892658, 0.04487930718520314, 0.9808501928379427, 0.04056173073654018, 0.16731713928822825, 0.42082795639160436, 0.35491514394472656, 0.015210649026202568, 0.023297838179620525, 0.9552113653644415, 0.02206901868358293, 0.1544831307850805, 0.8165536912925684, 0.22316543275965858, 0.7651386266045437, 0.06044580589877359, 0.05289008016142689, 0.27956185228182784, 0.6120137847250826, 0.9316203789832163, 0.0745296303186573, 0.22508173795499734, 0.21529557543521485, 0.1565786003165199, 0.013048216693043324, 0.3881844466180389, 0.19939883720021762, 0.13751643944842593, 0.6600789093524445, 0.17268414567953638, 0.507030044761192, 0.30862698376768205, 0.011022392277417217, 0.6829330851803936, 0.13008249241531306, 0.17886342707105546, 0.9766242195777808, 0.028097898784619435, 0.9553285586770608, 0.9749096980099656, 0.9787320523356724, 0.24613365800371478, 0.3145041185603022, 0.29627199574521224, 0.013674092111317487, 0.13218289040940237, 0.780570803337323, 0.15611416066746459, 0.06938407140776204, 0.9827483792822186, 0.9367613838133552, 0.02676461096609586, 0.9532845967857642, 0.40748087519741755, 0.06791347919956958, 0.3018376853314204, 0.018864855333213776, 0.20374043759870877, 0.9696591071229803, 0.3020423236617914, 0.008629780676051184, 0.46169326616873835, 0.02588934202815355, 0.19848495554917722, 0.9858711170610389, 0.12841091098112836, 0.6078116453106742, 0.21401818496854727, 0.042803636993709454, 0.00856072739874189, 0.9471976043066928, 0.9262101263856756, 0.05880699215147147, 0.014701748037867867, 0.13623933994172152, 0.6811966997086076, 0.13623933994172152, 0.8728198820330401, 0.10579634933733818, 0.719668377245083, 0.21463793707309495, 0.06312880502149851, 0.014873481989856694, 0.4908249056652709, 0.20079200686306536, 0.20079200686306536, 0.08924089193914017, 0.02900425509987131, 0.11601702039948524, 0.8411233978962679, 0.024014928477170485, 0.9605971390868194, 0.04144104462698462, 0.7293623854349293, 0.13261134280635078, 0.049729253552381544, 0.049729253552381544, 0.2116502013589106, 0.024188594441018355, 0.4958661860408763, 0.2539802416306927, 0.012094297220509177, 0.7624460723389557, 0.01556012392528481, 0.1867214871034177, 0.03112024785056962, 0.9434148773538548, 0.04101803814581977, 0.976705241294494, 0.9941888571424895, 0.9836835216470418, 0.055934843759682745, 0.08949575001549238, 0.033560906255809646, 0.816648718891368, 0.11603711168898447, 0.04746972750913001, 0.18460449586883892, 0.031646485006086675, 0.6276552859540524, 0.9189416509170185, 0.9854035203293245, 0.9657580371622982, 0.02330585285425132, 0.9555399670243041, 0.7381987659902602, 0.016777244681596824, 0.16777244681596826, 0.0671089787263873, 0.34162703529240057, 0.01863420192504003, 0.2360332243838404, 0.40374104170920067, 0.9744066374494631, 0.0822958546680302, 0.09052544013483321, 0.19751005120327247, 0.00822958546680302, 0.6172189100102264, 0.021522701790280166, 0.8609080716112065, 0.10761350895140082, 0.055793455054534286, 0.19837672908278858, 0.2293730930019743, 0.006199272783837143, 0.5083403682746458, 0.9749456183566791, 0.9534874474450553, 0.935824494610384, 0.1566398650187545, 0.06350264798057614, 0.18204092421098494, 0.004233509865371743, 0.592691381152044, 0.3507768194955799, 0.012095752396399305, 0.04233513338739757, 0.5987397436217656, 0.13216579451836558, 0.16520724314795698, 0.6938704212214193, 0.05483296138669319, 0.3133312079239611, 0.3133312079239611, 0.3211644881220601, 0.9047964752946259, 0.14711133917704325, 0.17033944536289217, 0.13162593505314396, 0.007742702061949644, 0.5497318463984248, 0.011803222207280209, 0.047212888829120836, 0.9324545543751366, 0.01675055670166283, 0.05025167010498849, 0.9212806185914556, 0.9851046644957978, 0.9341713030429295, 0.04916691068646997, 0.08915362203791471, 0.08915362203791471, 0.32451918421800957, 0.49569413853080585, 0.04691955802516138, 0.7507129284025821, 0.05864944753145172, 0.14075867407548415, 0.06691394698470793, 0.9144906087910083, 0.009733329486286595, 0.7397330409577813, 0.2335999076708783, 0.01946665897257319, 0.020393284783654254, 0.04078656956730851, 0.7851414641706889, 0.030589927175481382, 0.11216306631009841, 0.09160389694987187, 0.28890459807267277, 0.5919021033684028, 0.021139360834585813, 0.01619938869305759, 0.24299083039586383, 0.7127731024945339, 0.024299083039586382, 0.982689008481591, 0.9724186015644962, 0.010387242311258496, 0.05193621155629247, 0.9348518080132646, 0.023196158439789064, 0.9510424960313516, 0.08227649758628469, 0.08741877868542748, 0.7507730404748477, 0.007713421648714189, 0.06942079483842771, 0.5861984743405045, 0.3062722365936344, 0.10538399538705699, 0.9387483898323629, 0.13446750517235423, 0.4034025155170627, 0.41267613656343194, 0.04173129470866166, 0.009273621046369258, 0.15028251677892096, 0.8265538422840654, 0.01252354306491008, 0.9687542304011079, 0.21330740701229062, 0.2866318281727655, 0.053326851753072654, 0.44661238343198345, 0.9456828653112368, 0.9866955348520604, 0.13095544561551128, 0.4656193621884846, 0.26918619376521763, 0.101854235478731, 0.029101210136780287, 0.0386115273153981, 0.2895864548654858, 0.5984786733886707, 0.057917290973097155, 0.029687403172927236, 0.0890622095187817, 0.8609346920148898, 0.19059654270651466, 0.06353218090217155, 0.22633339446398618, 0.5201697311365296, 0.8577467473599056, 0.025992325677572897, 0.10396930271029159, 0.9745274696947883, 0.9696587746880434, 0.9653906941769959, 0.9843220011760735, 0.9530545391380075, 0.06423642240743671, 0.7983669642067135, 0.1376494765873644, 0.12723520134776786, 0.10178816107821428, 0.7379641678170535, 0.011311699962255305, 0.12819926623889344, 0.4977147983392334, 0.030164533232680812, 0.33180986555948894, 0.10983123034081355, 0.6390180674374606, 0.15975451685936515, 0.06989260112597226, 0.019969314607420643, 0.759677224874132, 0.1486325005188519, 0.0990883336792346, 0.9308291670779979, 0.037993027227673386, 0.018996513613836693, 0.9789299857117125, 0.9746060888520766, 0.9827512299526361, 0.3876181988727745, 0.10619676681445876, 0.14336563519951934, 0.10088692847373583, 0.254872240354701, 0.8125667521431914, 0.15090525396944984, 0.0232161929183769, 0.06167464173805592, 0.7647655575518933, 0.08634449843327828, 0.04933971339044473, 0.03700478504283355, 0.9668823337680765, 0.6944647553933279, 0.030194119799709904, 0.15097059899854953, 0.030194119799709904, 0.10567941929898467, 0.9812872371684778, 0.8154266373580014, 0.025482082417437543, 0.025482082417437543, 0.10192832966975017, 0.02135487449210355, 0.9609693521446597, 0.03577481293811681, 0.953995011683115, 0.011924937646038938, 0.841791672858837, 0.15305303142887947, 0.32349180003227357, 0.6469836000645471, 0.9858718319348736, 0.02348825738273142, 0.09059756419053548, 0.8623545924802821, 0.013421861361560813, 0.010066396021170609, 0.6849411581323706, 0.08266531218838956, 0.2361866062525416, 0.025637831646062408, 0.5768512120364041, 0.3888404466319465, 0.008545943882020802, 0.01842179832509914, 0.8658245212796596, 0.0921089916254957, 0.07637945778834054, 0.19640432002716138, 0.709237822320305, 0.010911351112620076, 0.02972731587728766, 0.32204592200394966, 0.559864449022251, 0.08918194763186299, 0.9347729348712336, 0.8843190314843234, 0.11053987893554043, 0.07223568578339498, 0.31302130506137826, 0.6019640481949582, 0.8955438983428409, 0.9612085865305684, 0.042720381623580814, 0.946525214960768, 0.9529698149746726, 0.02722770899927636, 0.19952011830684177, 0.7980804732273671, 0.9749523845187354, 0.976702517718203, 0.05739417069551703, 0.7174271336939628, 0.20087959743430958, 0.028697085347758514, 0.8854590619063476, 0.05059766068036272, 0.07589649102054408, 0.043261389881438295, 0.021630694940719147, 0.2379376443479106, 0.5840287633994169, 0.12978416964431488, 0.8409139216038571, 0.0691162127345636, 0.05759684394546966, 0.011519368789093933, 0.372682935533599, 0.047175055130835315, 0.2075702425756754, 0.06604507718316945, 0.30663785835042956, 0.5246596051587744, 0.11000927204942045, 0.2200185440988409, 0.04231125848054633, 0.11000927204942045, 0.9441566807783374, 0.04969245688307039, 0.022284314205908422, 0.9582255108540622, 0.9696617193504213, 0.06687147803716403, 0.0012617260007012083, 0.4769324282650567, 0.011355534006310874, 0.4428658262461241, 0.3083772054017947, 0.40260357371900973, 0.2912451384350283, 0.026636081480450744, 0.05327216296090149, 0.9056267703353252, 0.10992273850565634, 0.14463518224428465, 0.5958969508464528, 0.14463518224428465, 0.8362579372343404, 0.11946541960490577, 0.04479953235183966, 0.449137108510618, 0.163322584912952, 0.2531500066150756, 0.0081661292456476, 0.11432580943906641, 0.09151024850306007, 0.5407423775180822, 0.33276454001112754, 0.024957340500834563, 0.06145020993657139, 0.2703809237209141, 0.1597705458350856, 0.442441511543314, 0.07374025192388567, 0.9326025024366007, 0.058287656402287544, 0.014662478021899098, 0.3909994139173093, 0.3616744578735111, 0.19061221428468827, 0.03909994139173093, 0.44567387823532334, 0.261462008564723, 0.1604425961647164, 0.04159622863529684, 0.08913477564706467, 0.008197180465281865, 0.10656334604866426, 0.14754924837507358, 0.6885631590836767, 0.049183082791691195, 0.0716323592523636, 0.9312206702807266, 0.9358251032809067, 0.9787364035848841, 0.9600939002180934, 0.09392045859321865, 0.8828523107762554, 0.01878409171864373, 0.178425310045089, 0.20735914410645476, 0.1446691703068289, 0.25558220087539774, 0.21218144978334905, 0.965389785576641, 0.9876036122260241, 0.969661919003419, 0.9749471748388451, 0.022311571699603083, 0.5273644219906183, 0.40769326469274725, 0.04056649399927833, 0.0020283246999639164, 0.32033637115460395, 0.3898433196126784, 0.26593962888306744, 0.024176329898460674, 0.052728387297499735, 0.24606580738833211, 0.7030451639666632, 0.2130169653343915, 0.0399406810001984, 0.1597627240007936, 0.5192288530025793, 0.05325424133359787, 0.248087653686002, 0.7442629610580059, 0.10379578006790252, 0.8718845525703812, 0.9787189763220968, 0.9716843553111653, 0.04168925924090776, 0.6253388886136164, 0.2570837653189312, 0.055585678987877016, 0.02084462962045388, 0.2056180493096095, 0.7539328474685681, 0.29781066950755597, 0.3321734390661201, 0.35508195210516286, 0.017181384779282074, 0.9372831932416044, 0.05305376565518515, 0.8145113428467612, 0.11878290416515266, 0.050906958927922574, 0.05198239314873268, 0.05198239314873268, 0.9356830766771882, 0.9635408072044215, 0.9406133016233874, 0.9746185208813161, 0.14675475334346474, 0.052412411908380266, 0.12578978858011264, 0.6708788724272674, 0.15808497123397883, 0.052694990411326276, 0.23336352896444493, 0.03763927886523306, 0.5269499041132628, 0.03610998803655869, 0.05055398325118216, 0.0577759808584939, 0.021665992821935213, 0.8377517224481615, 0.9534950587196018, 0.9706513434402674, 0.9886225796469464, 0.3785823618454813, 0.6219567373175764, 0.953509737444115, 0.174709352704499, 0.49724969615895864, 0.3124609577215078, 0.013439180977269153, 0.21500351113923863, 0.5160084267341727, 0.1446387256754878, 0.07036478546375083, 0.0547281664718062, 0.9180624893811674, 0.03825260372421531, 0.07381663347580371, 0.8857996017096444, 0.9178960678111776, 0.04589480339055888, 0.02294740169527944, 0.9446609497182427, 0.06102393144270309, 0.12204786288540619, 0.8136524192360413, 0.017712400837337997, 0.9387572443789138, 0.035424801674675994, 0.09528483909109661, 0.7690847726638512, 0.00680605993507833, 0.12250907883140993, 0.01731494204075816, 0.05194482612227448, 0.9176919281601825, 0.22787423138110183, 0.44343093674160355, 0.043111341072100344, 0.055428867092700444, 0.23403299439140188, 0.27432845129728367, 0.11704680588684103, 0.21214733566989938, 0.02926170147171026, 0.36577126839637825, 0.9664812473180293, 0.2648284746039671, 0.10063482034950748, 0.5190638102237755, 0.010593138984158682, 0.10593138984158683, 0.15463528036729188, 0.11781735647031762, 0.7216313083806954, 0.9456927088828156, 0.10295747891236355, 0.08423793729193381, 0.7581414356274043, 0.028079312430644605, 0.028079312430644605, 0.9696618113268809, 0.09115331803360613, 0.018230663606721226, 0.03646132721344245, 0.8568411895158976, 0.5597876105721199, 0.03427271085135428, 0.1370908434054171, 0.2627574498603828, 0.9706602212090614, 0.25412044832186986, 0.3465278840752771, 0.23101858938351807, 0.019251549115293174, 0.15016208309928675, 0.12505193853485636, 0.24228813091128418, 0.4611290233472828, 0.007815746158428522, 0.1602227962477847, 0.024142113840661058, 0.09656845536264423, 0.8691160982637981, 0.966691453335601, 0.9694499612876367, 0.049475734395858055, 0.049475734395858055, 0.890563219125445, 0.08140619551762905, 0.06660506905987831, 0.2146163336373857, 0.6364484376832816], \"Term\": [\"000\", \"000\", \"000\", \"000\", \"1960\", \"1960\", \"1960\", \"63\", \"63\", \"academic\", \"academic\", \"act\", \"act\", \"act\", \"act\", \"activities\", \"activities\", \"activities\", \"administration\", \"administration\", \"administration\", \"agreement\", \"agreement\", \"agreement\", \"agreement\", \"alexander\", \"alexander\", \"amateur\", \"amended\", \"amended\", \"american\", \"american\", \"american\", \"american\", \"american\", \"area\", \"area\", \"area\", \"area\", \"area\", \"areas\", \"areas\", \"areas\", \"areas\", \"asked\", \"asked\", \"asked\", \"asked\", \"asked\", \"assessment\", \"assessment\", \"authorized\", \"authorized\", \"authorized\", \"available\", \"available\", \"available\", \"available\", \"away\", \"away\", \"away\", \"away\", \"baby\", \"baby\", \"ball\", \"ball\", \"baseball\", \"bat\", \"bed\", \"bed\", \"bed\", \"berlin\", \"best\", \"best\", \"best\", \"best\", \"best\", \"better\", \"better\", \"better\", \"better\", \"better\", \"board\", \"board\", \"board\", \"board\", \"board\", \"boat\", \"boat\", \"boat\", \"boat\", \"boats\", \"boats\", \"boats\", \"bob\", \"bob\", \"bombs\", \"boy\", \"boy\", \"boy\", \"bridge\", \"bridge\", \"brown\", \"brown\", \"brown\", \"brown\", \"business\", \"business\", \"business\", \"business\", \"business\", \"came\", \"came\", \"came\", \"came\", \"came\", \"castro\", \"catastrophe\", \"cattle\", \"cattle\", \"cattle\", \"center\", \"center\", \"center\", \"center\", \"charlie\", \"charter\", \"chemical\", \"chemical\", \"chemical\", \"child\", \"child\", \"child\", \"child\", \"city\", \"city\", \"city\", \"city\", \"city\", \"claim\", \"claim\", \"claim\", \"claims\", \"claims\", \"claims\", \"claims\", \"class\", \"class\", \"class\", \"class\", \"class\", \"clay\", \"clay\", \"clay\", \"clay\", \"club\", \"club\", \"club\", \"club\", \"coach\", \"college\", \"college\", \"college\", \"college\", \"college\", \"come\", \"come\", \"come\", \"come\", \"come\", \"committee\", \"committee\", \"committee\", \"committee\", \"commodities\", \"commodities\", \"commodities\", \"communism\", \"communist\", \"communist\", \"communist\", \"communists\", \"company\", \"company\", \"company\", \"company\", \"company\", \"comprehensive\", \"concrete\", \"concrete\", \"concrete\", \"congo\", \"cooling\", \"cooling\", \"cooling\", \"corps\", \"corps\", \"corps\", \"couldn\", \"couldn\", \"couldn\", \"council\", \"council\", \"council\", \"council\", \"county\", \"county\", \"court\", \"court\", \"court\", \"court\", \"coverage\", \"coverage\", \"creative\", \"creative\", \"credit\", \"credit\", \"credit\", \"credit\", \"cuba\", \"curriculum\", \"cut\", \"cut\", \"cut\", \"cut\", \"dad\", \"day\", \"day\", \"day\", \"day\", \"day\", \"dear\", \"democratic\", \"democratic\", \"democrats\", \"department\", \"department\", \"department\", \"department\", \"depreciation\", \"designers\", \"development\", \"development\", \"development\", \"development\", \"didn\", \"didn\", \"didn\", \"didn\", \"division\", \"division\", \"division\", \"division\", \"don\", \"don\", \"don\", \"don\", \"don\", \"door\", \"door\", \"door\", \"door\", \"drill\", \"drill\", \"drill\", \"ears\", \"east\", \"east\", \"east\", \"east\", \"educated\", \"election\", \"election\", \"employee\", \"engineers\", \"evaluation\", \"expenditures\", \"expenditures\", \"eyes\", \"eyes\", \"eyes\", \"eyes\", \"faculty\", \"faculty\", \"farm\", \"farm\", \"farm\", \"farm\", \"farmers\", \"farmers\", \"father\", \"father\", \"father\", \"father\", \"favorite\", \"feed\", \"feed\", \"feed\", \"felt\", \"felt\", \"felt\", \"felt\", \"fig\", \"fig\", \"fiscal\", \"fiscal\", \"fishing\", \"fishing\", \"football\", \"football\", \"forests\", \"frame\", \"frame\", \"frame\", \"frames\", \"frames\", \"gallery\", \"game\", \"game\", \"game\", \"game\", \"game\", \"games\", \"games\", \"gear\", \"gear\", \"gen\", \"general\", \"general\", \"general\", \"general\", \"general\", \"georgia\", \"georgia\", \"girl\", \"girl\", \"girl\", \"god\", \"god\", \"going\", \"going\", \"going\", \"going\", \"golf\", \"golf\", \"good\", \"good\", \"good\", \"good\", \"good\", \"got\", \"got\", \"got\", \"government\", \"government\", \"government\", \"government\", \"green\", \"green\", \"green\", \"hadn\", \"hair\", \"hair\", \"heel\", \"hell\", \"high\", \"high\", \"high\", \"high\", \"high\", \"hit\", \"hit\", \"hit\", \"hits\", \"hole\", \"hole\", \"holes\", \"home\", \"home\", \"home\", \"home\", \"home\", \"homer\", \"house\", \"house\", \"house\", \"house\", \"house\", \"hughes\", \"important\", \"important\", \"important\", \"important\", \"important\", \"imports\", \"inch\", \"inch\", \"inch\", \"incurred\", \"incurred\", \"incurred\", \"india\", \"india\", \"industrial\", \"industrial\", \"industrial\", \"interest\", \"interest\", \"interest\", \"interest\", \"interest\", \"interference\", \"interference\", \"interference\", \"interior\", \"interior\", \"island\", \"island\", \"island\", \"island\", \"island\", \"john\", \"john\", \"john\", \"john\", \"john\", \"junior\", \"junior\", \"junior\", \"junior\", \"jury\", \"jury\", \"katanga\", \"kennedy\", \"khrushchev\", \"knew\", \"knew\", \"knew\", \"knew\", \"know\", \"know\", \"know\", \"know\", \"know\", \"laboratories\", \"laos\", \"laughed\", \"leader\", \"leader\", \"league\", \"league\", \"league\", \"league\", \"left\", \"left\", \"left\", \"left\", \"leg\", \"let\", \"let\", \"let\", \"let\", \"let\", \"library\", \"library\", \"library\", \"life\", \"life\", \"life\", \"life\", \"life\", \"liked\", \"lips\", \"listening\", \"little\", \"little\", \"little\", \"little\", \"little\", \"ll\", \"ll\", \"ll\", \"ll\", \"loans\", \"loans\", \"loans\", \"local\", \"local\", \"local\", \"local\", \"locations\", \"look\", \"look\", \"look\", \"look\", \"look\", \"looked\", \"looked\", \"looked\", \"love\", \"love\", \"love\", \"loved\", \"maintain\", \"maintain\", \"man\", \"man\", \"man\", \"man\", \"management\", \"management\", \"management\", \"management\", \"mayor\", \"mayor\", \"medical\", \"medical\", \"medical\", \"medical\", \"meeting\", \"meeting\", \"meeting\", \"meeting\", \"meeting\", \"members\", \"members\", \"members\", \"members\", \"military\", \"military\", \"military\", \"military\", \"missiles\", \"moscow\", \"mother\", \"mother\", \"mother\", \"motors\", \"motors\", \"mr\", \"mr\", \"mr\", \"mr\", \"mr\", \"mrs\", \"mrs\", \"mrs\", \"musical\", \"national\", \"national\", \"national\", \"national\", \"national\", \"nations\", \"nations\", \"nations\", \"negotiations\", \"night\", \"night\", \"night\", \"night\", \"nodded\", \"nuclear\", \"number\", \"number\", \"number\", \"number\", \"number\", \"officer\", \"officer\", \"officer\", \"officer\", \"oh\", \"oh\", \"oh\", \"old\", \"old\", \"old\", \"old\", \"organizations\", \"organizations\", \"organizations\", \"paint\", \"paintings\", \"pale\", \"panels\", \"participation\", \"party\", \"party\", \"party\", \"payments\", \"payments\", \"payments\", \"people\", \"people\", \"people\", \"people\", \"people\", \"period\", \"period\", \"period\", \"period\", \"period\", \"piece\", \"piece\", \"piece\", \"pieces\", \"pieces\", \"pieces\", \"pitcher\", \"pitching\", \"pittsburgh\", \"place\", \"place\", \"place\", \"place\", \"place\", \"planning\", \"planning\", \"planning\", \"plant\", \"plant\", \"plant\", \"plant\", \"plant\", \"plastic\", \"play\", \"play\", \"play\", \"play\", \"play\", \"player\", \"playing\", \"playing\", \"playing\", \"playing\", \"police\", \"police\", \"political\", \"political\", \"political\", \"pool\", \"pool\", \"pound\", \"pound\", \"premier\", \"president\", \"president\", \"president\", \"president\", \"president\", \"production\", \"production\", \"production\", \"program\", \"program\", \"program\", \"program\", \"projects\", \"projects\", \"projects\", \"property\", \"property\", \"property\", \"property\", \"public\", \"public\", \"public\", \"public\", \"publications\", \"published\", \"published\", \"purposes\", \"purposes\", \"purposes\", \"quantity\", \"rayburn\", \"rayburn\", \"recommendation\", \"recreation\", \"recreation\", \"relating\", \"relating\", \"republican\", \"republicans\", \"research\", \"research\", \"research\", \"research\", \"resources\", \"resources\", \"resources\", \"respect\", \"respect\", \"respect\", \"respect\", \"respect\", \"rhode\", \"rhode\", \"rhode\", \"rhode\", \"right\", \"right\", \"right\", \"right\", \"right\", \"run\", \"run\", \"run\", \"run\", \"run\", \"runs\", \"runs\", \"russia\", \"russia\", \"ruth\", \"said\", \"said\", \"said\", \"said\", \"said\", \"sales\", \"sales\", \"sales\", \"sat\", \"sat\", \"sat\", \"school\", \"school\", \"school\", \"school\", \"season\", \"season\", \"season\", \"second\", \"second\", \"second\", \"second\", \"second\", \"secretary\", \"secretary\", \"secretary\", \"secretary\", \"section\", \"section\", \"section\", \"section\", \"section\", \"senate\", \"senate\", \"service\", \"service\", \"service\", \"service\", \"service\", \"set\", \"set\", \"set\", \"set\", \"set\", \"shall\", \"shall\", \"shall\", \"shall\", \"shall\", \"shelter\", \"shelter\", \"shoes\", \"sick\", \"silent\", \"site\", \"site\", \"site\", \"small\", \"small\", \"small\", \"small\", \"small\", \"smiled\", \"soviet\", \"stadium\", \"stared\", \"state\", \"state\", \"state\", \"state\", \"state\", \"states\", \"states\", \"states\", \"states\", \"stations\", \"stations\", \"stations\", \"stock\", \"stock\", \"stock\", \"stock\", \"stock\", \"stockholders\", \"stockholders\", \"stood\", \"stood\", \"strange\", \"strategic\", \"system\", \"system\", \"system\", \"system\", \"system\", \"tangible\", \"tangible\", \"tax\", \"tax\", \"tax\", \"tax\", \"team\", \"team\", \"technical\", \"technical\", \"technical\", \"teeth\", \"teeth\", \"teeth\", \"textile\", \"thereof\", \"thickness\", \"thing\", \"thing\", \"thing\", \"thing\", \"think\", \"think\", \"think\", \"think\", \"think\", \"thought\", \"thought\", \"thought\", \"thought\", \"thought\", \"till\", \"tongue\", \"troops\", \"trust\", \"trust\", \"ugly\", \"united\", \"united\", \"united\", \"united\", \"use\", \"use\", \"use\", \"use\", \"use\", \"values\", \"values\", \"varying\", \"varying\", \"vehicles\", \"vehicles\", \"vehicles\", \"vernon\", \"voice\", \"voice\", \"voice\", \"vote\", \"vote\", \"vote\", \"war\", \"war\", \"war\", \"war\", \"wasn\", \"wasn\", \"wasn\", \"water\", \"water\", \"water\", \"water\", \"water\", \"way\", \"way\", \"way\", \"way\", \"way\", \"weapons\", \"week\", \"week\", \"week\", \"week\", \"week\", \"went\", \"went\", \"went\", \"weren\", \"west\", \"west\", \"west\", \"west\", \"west\", \"willie\", \"woman\", \"woman\", \"woman\", \"woman\", \"won\", \"won\", \"won\", \"won\", \"wondered\", \"work\", \"work\", \"work\", \"work\", \"work\", \"world\", \"world\", \"world\", \"world\", \"world\", \"wouldn\", \"wouldn\", \"wouldn\", \"yankees\", \"yards\", \"yes\", \"yes\", \"yes\", \"young\", \"young\", \"young\", \"young\"]}, \"R\": 30, \"lambda.step\": 0.01, \"plot.opts\": {\"xlab\": \"PC1\", \"ylab\": \"PC2\"}, \"topic.order\": [1, 2, 3, 4, 5]};\n",
       "\n",
       "function LDAvis_load_lib(url, callback){\n",
       "  var s = document.createElement('script');\n",
       "  s.src = url;\n",
       "  s.async = true;\n",
       "  s.onreadystatechange = s.onload = callback;\n",
       "  s.onerror = function(){console.warn(\"failed to load library \" + url);};\n",
       "  document.getElementsByTagName(\"head\")[0].appendChild(s);\n",
       "}\n",
       "\n",
       "if(typeof(LDAvis) !== \"undefined\"){\n",
       "   // already loaded: just create the visualization\n",
       "   !function(LDAvis){\n",
       "       new LDAvis(\"#\" + \"ldavis_el338701403737594689284523778545\", ldavis_el338701403737594689284523778545_data);\n",
       "   }(LDAvis);\n",
       "}else if(typeof define === \"function\" && define.amd){\n",
       "   // require.js is available: use it to load d3/LDAvis\n",
       "   require.config({paths: {d3: \"https://d3js.org/d3.v5\"}});\n",
       "   require([\"d3\"], function(d3){\n",
       "      window.d3 = d3;\n",
       "      LDAvis_load_lib(\"https://cdn.jsdelivr.net/gh/bmabey/pyLDAvis@3.3.1/pyLDAvis/js/ldavis.v3.0.0.js\", function(){\n",
       "        new LDAvis(\"#\" + \"ldavis_el338701403737594689284523778545\", ldavis_el338701403737594689284523778545_data);\n",
       "      });\n",
       "    });\n",
       "}else{\n",
       "    // require.js not available: dynamically load d3 & LDAvis\n",
       "    LDAvis_load_lib(\"https://d3js.org/d3.v5.js\", function(){\n",
       "         LDAvis_load_lib(\"https://cdn.jsdelivr.net/gh/bmabey/pyLDAvis@3.3.1/pyLDAvis/js/ldavis.v3.0.0.js\", function(){\n",
       "                 new LDAvis(\"#\" + \"ldavis_el338701403737594689284523778545\", ldavis_el338701403737594689284523778545_data);\n",
       "            })\n",
       "         });\n",
       "}\n",
       "</script>"
      ],
      "text/plain": [
       "<IPython.core.display.HTML object>"
      ]
     },
     "execution_count": 70,
     "metadata": {},
     "output_type": "execute_result"
    }
   ],
   "source": [
    "pyLDAvis.display(lda_display)\n"
   ]
  },
  {
   "cell_type": "markdown",
   "id": "a3d14c87",
   "metadata": {
    "id": "a3d14c87",
    "pycharm": {
     "name": "#%% md\n"
    }
   },
   "source": [
    "#### Q&A\n",
    "Q: What conclusions do you draw from the visualization above? Please address the principal component scatterplot and the salient terms graph.\n",
    "\n",
    "A: *Due to Python's number system starting at 0, thus topic numbers displayed on the PCA plot is the displayed topic number minus one.\n",
    "\n",
    "\n",
    "Interestingly, topics 1 and 2 (visually plotted as 2 and 3) overlap on the PCA plot, where topic 3 appears to be comprised of government documents, and topic 2 occurs to be composed of news articles.  The other three topics are clearly separated and are in different quadrants of the cartesian plane.  Thus topics 2, 3, and 4 are very similar.  While topics 1 and 5 are clearly either romance or hobby-based topics.\n"
   ]
  }
 ],
 "metadata": {
  "colab": {
   "provenance": []
  },
  "kernelspec": {
   "display_name": "Python 3 (ipykernel)",
   "language": "python",
   "name": "python3"
  },
  "language_info": {
   "codemirror_mode": {
    "name": "ipython",
    "version": 3
   },
   "file_extension": ".py",
   "mimetype": "text/x-python",
   "name": "python",
   "nbconvert_exporter": "python",
   "pygments_lexer": "ipython3",
   "version": "3.9.12"
  }
 },
 "nbformat": 4,
 "nbformat_minor": 5
}
